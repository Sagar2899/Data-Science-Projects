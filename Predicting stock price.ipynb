{
 "cells": [
  {
   "cell_type": "markdown",
   "id": "9c196b50",
   "metadata": {},
   "source": [
    "## Stock Price Prediction\n",
    "In this project we are going to create a machine learning algorithm which will predict the stock prices.The stocks are bought if the algorithm predicts that the prices will go down.\n",
    "\n",
    "We want to maximize our true positives - days when the algorithm predicts that the price will go up, and it actually goes go up. Therefore, we'll be using precision as our error metric for our algorithm, which is true positives / (false positives + true positives). This will ensure that we minimize how much money we lose with false positives (days when we buy the stock, but the price actually goes down).\n",
    "\n",
    "This means that we will have to accept a lot of false negatives - days when we predict that the price will go down, but it actually goes up. This is okay, since we'd rather minimize our potential losses than maximize our potential gains.\n"
   ]
  },
  {
   "cell_type": "markdown",
   "id": "21887d52",
   "metadata": {},
   "source": [
    "## Method\n",
    "Before we get to the machine learning, we need to do a lot of work to acquire and clean up the data. Here are the steps we'll follow:\n",
    "\n",
    "1. Download historical stock prices from Yahoo finance\n",
    "2. Explore the data\n",
    "3. Setup the dataset to predict future prices using historical prices\n",
    "4. Test a machine learning model\n",
    "5. Setup a backtesting engine\n",
    "6. Improve the accuracy of the model\n",
    " At the end, we'll document some potential future directions we can go in to improve the technique."
   ]
  },
  {
   "cell_type": "code",
   "execution_count": 1,
   "id": "cbc0dea2",
   "metadata": {},
   "outputs": [
    {
     "name": "stdout",
     "output_type": "stream",
     "text": [
      "Requirement already satisfied: yfinance in c:\\programdata\\anaconda3\\lib\\site-packages (0.1.70)\n",
      "Requirement already satisfied: pandas>=0.24.0 in c:\\programdata\\anaconda3\\lib\\site-packages (from yfinance) (1.3.4)\n",
      "Requirement already satisfied: numpy>=1.15 in c:\\programdata\\anaconda3\\lib\\site-packages (from yfinance) (1.20.3)\n",
      "Requirement already satisfied: lxml>=4.5.1 in c:\\programdata\\anaconda3\\lib\\site-packages (from yfinance) (4.6.3)\n",
      "Requirement already satisfied: requests>=2.26 in c:\\programdata\\anaconda3\\lib\\site-packages (from yfinance) (2.26.0)\n",
      "Requirement already satisfied: multitasking>=0.0.7 in c:\\programdata\\anaconda3\\lib\\site-packages (from yfinance) (0.0.10)\n",
      "Requirement already satisfied: pytz>=2017.3 in c:\\programdata\\anaconda3\\lib\\site-packages (from pandas>=0.24.0->yfinance) (2021.3)\n",
      "Requirement already satisfied: python-dateutil>=2.7.3 in c:\\programdata\\anaconda3\\lib\\site-packages (from pandas>=0.24.0->yfinance) (2.8.2)\n",
      "Requirement already satisfied: six>=1.5 in c:\\programdata\\anaconda3\\lib\\site-packages (from python-dateutil>=2.7.3->pandas>=0.24.0->yfinance) (1.16.0)\n",
      "Requirement already satisfied: certifi>=2017.4.17 in c:\\programdata\\anaconda3\\lib\\site-packages (from requests>=2.26->yfinance) (2021.10.8)\n",
      "Requirement already satisfied: charset-normalizer~=2.0.0 in c:\\programdata\\anaconda3\\lib\\site-packages (from requests>=2.26->yfinance) (2.0.4)\n",
      "Requirement already satisfied: urllib3<1.27,>=1.21.1 in c:\\programdata\\anaconda3\\lib\\site-packages (from requests>=2.26->yfinance) (1.26.7)\n",
      "Requirement already satisfied: idna<4,>=2.5 in c:\\programdata\\anaconda3\\lib\\site-packages (from requests>=2.26->yfinance) (3.2)\n"
     ]
    }
   ],
   "source": [
    "!pip install yfinance\n",
    "import yfinance as yf  # yfinance package that enables us to fetch historical market data from Yahoo Finance API in a Pythonic way"
   ]
  },
  {
   "cell_type": "code",
   "execution_count": 2,
   "id": "3b952745",
   "metadata": {},
   "outputs": [],
   "source": [
    "import pandas as pd\n",
    "import matplotlib.pyplot as plt\n",
    "import numpy as np\n",
    "%matplotlib inline"
   ]
  },
  {
   "cell_type": "code",
   "execution_count": 3,
   "id": "24d6ac71",
   "metadata": {},
   "outputs": [],
   "source": [
    "msft = yf.Ticker(\"MSFT\") # use ticker object to access the ticker data\n",
    "msft = msft.history(period=\"max\")   #A stock ticker reports transaction and price data for a security, updated continuously throughout the day."
   ]
  },
  {
   "cell_type": "code",
   "execution_count": 4,
   "id": "a686caf3",
   "metadata": {},
   "outputs": [
    {
     "data": {
      "text/html": [
       "<div>\n",
       "<style scoped>\n",
       "    .dataframe tbody tr th:only-of-type {\n",
       "        vertical-align: middle;\n",
       "    }\n",
       "\n",
       "    .dataframe tbody tr th {\n",
       "        vertical-align: top;\n",
       "    }\n",
       "\n",
       "    .dataframe thead th {\n",
       "        text-align: right;\n",
       "    }\n",
       "</style>\n",
       "<table border=\"1\" class=\"dataframe\">\n",
       "  <thead>\n",
       "    <tr style=\"text-align: right;\">\n",
       "      <th></th>\n",
       "      <th>Open</th>\n",
       "      <th>High</th>\n",
       "      <th>Low</th>\n",
       "      <th>Close</th>\n",
       "      <th>Volume</th>\n",
       "      <th>Dividends</th>\n",
       "      <th>Stock Splits</th>\n",
       "    </tr>\n",
       "    <tr>\n",
       "      <th>Date</th>\n",
       "      <th></th>\n",
       "      <th></th>\n",
       "      <th></th>\n",
       "      <th></th>\n",
       "      <th></th>\n",
       "      <th></th>\n",
       "      <th></th>\n",
       "    </tr>\n",
       "  </thead>\n",
       "  <tbody>\n",
       "    <tr>\n",
       "      <th>1986-03-13</th>\n",
       "      <td>0.055783</td>\n",
       "      <td>0.063987</td>\n",
       "      <td>0.055783</td>\n",
       "      <td>0.061252</td>\n",
       "      <td>1031788800</td>\n",
       "      <td>0.0</td>\n",
       "      <td>0.0</td>\n",
       "    </tr>\n",
       "    <tr>\n",
       "      <th>1986-03-14</th>\n",
       "      <td>0.061252</td>\n",
       "      <td>0.064533</td>\n",
       "      <td>0.061252</td>\n",
       "      <td>0.063439</td>\n",
       "      <td>308160000</td>\n",
       "      <td>0.0</td>\n",
       "      <td>0.0</td>\n",
       "    </tr>\n",
       "    <tr>\n",
       "      <th>1986-03-17</th>\n",
       "      <td>0.063439</td>\n",
       "      <td>0.065080</td>\n",
       "      <td>0.063439</td>\n",
       "      <td>0.064533</td>\n",
       "      <td>133171200</td>\n",
       "      <td>0.0</td>\n",
       "      <td>0.0</td>\n",
       "    </tr>\n",
       "    <tr>\n",
       "      <th>1986-03-18</th>\n",
       "      <td>0.064533</td>\n",
       "      <td>0.065080</td>\n",
       "      <td>0.062345</td>\n",
       "      <td>0.062892</td>\n",
       "      <td>67766400</td>\n",
       "      <td>0.0</td>\n",
       "      <td>0.0</td>\n",
       "    </tr>\n",
       "  </tbody>\n",
       "</table>\n",
       "</div>"
      ],
      "text/plain": [
       "                Open      High       Low     Close      Volume  Dividends  \\\n",
       "Date                                                                        \n",
       "1986-03-13  0.055783  0.063987  0.055783  0.061252  1031788800        0.0   \n",
       "1986-03-14  0.061252  0.064533  0.061252  0.063439   308160000        0.0   \n",
       "1986-03-17  0.063439  0.065080  0.063439  0.064533   133171200        0.0   \n",
       "1986-03-18  0.064533  0.065080  0.062345  0.062892    67766400        0.0   \n",
       "\n",
       "            Stock Splits  \n",
       "Date                      \n",
       "1986-03-13           0.0  \n",
       "1986-03-14           0.0  \n",
       "1986-03-17           0.0  \n",
       "1986-03-18           0.0  "
      ]
     },
     "execution_count": 4,
     "metadata": {},
     "output_type": "execute_result"
    }
   ],
   "source": [
    "msft.head(4)"
   ]
  },
  {
   "cell_type": "code",
   "execution_count": 5,
   "id": "cb638442",
   "metadata": {},
   "outputs": [],
   "source": [
    "#msft_array = np.array(msft['Close']) # converted the data points into array using nummpy"
   ]
  },
  {
   "cell_type": "code",
   "execution_count": 6,
   "id": "c15c65f2",
   "metadata": {},
   "outputs": [],
   "source": [
    "#plt.xlabel(\"Date\")\n",
    "#plt.ylabel(\"Stock Price\")\n",
    "#plt.plot(msft_array, linestyle = 'dotted') # used plt.plot to draw a line graph of closing stock points\n"
   ]
  },
  {
   "cell_type": "code",
   "execution_count": 7,
   "id": "975ae413",
   "metadata": {},
   "outputs": [
    {
     "data": {
      "text/plain": [
       "<AxesSubplot:xlabel='Date'>"
      ]
     },
     "execution_count": 7,
     "metadata": {},
     "output_type": "execute_result"
    },
    {
     "data": {
      "image/png": "[encoded data removed]",
      "text/plain": [
       "<Figure size 432x288 with 1 Axes>"
      ]
     },
     "metadata": {
      "needs_background": "light"
     },
     "output_type": "display_data"
    }
   ],
   "source": [
    "msft.plot.line(y='Close', use_index=True) # use_index will manage the x axis of the msft Close column"
   ]
  },
  {
   "cell_type": "code",
   "execution_count": 8,
   "id": "ef147d0f",
   "metadata": {},
   "outputs": [],
   "source": [
    "data = msft[['Close']] ## double brackets are used to get the column names\n",
    "data = data.rename(columns={'Close':'Actual_Close'})\n",
    "data['Target'] = msft.rolling(2).apply(lambda x : x.iloc[1] > x.iloc[0])['Close'] # The rolling() function is used to provide rolling window calculations."
   ]
  },
  {
   "cell_type": "code",
   "execution_count": 9,
   "id": "15470f56",
   "metadata": {},
   "outputs": [
    {
     "data": {
      "text/html": [
       "<div>\n",
       "<style scoped>\n",
       "    .dataframe tbody tr th:only-of-type {\n",
       "        vertical-align: middle;\n",
       "    }\n",
       "\n",
       "    .dataframe tbody tr th {\n",
       "        vertical-align: top;\n",
       "    }\n",
       "\n",
       "    .dataframe thead th {\n",
       "        text-align: right;\n",
       "    }\n",
       "</style>\n",
       "<table border=\"1\" class=\"dataframe\">\n",
       "  <thead>\n",
       "    <tr style=\"text-align: right;\">\n",
       "      <th></th>\n",
       "      <th>Actual_Close</th>\n",
       "      <th>Target</th>\n",
       "    </tr>\n",
       "    <tr>\n",
       "      <th>Date</th>\n",
       "      <th></th>\n",
       "      <th></th>\n",
       "    </tr>\n",
       "  </thead>\n",
       "  <tbody>\n",
       "    <tr>\n",
       "      <th>1986-03-13</th>\n",
       "      <td>0.061252</td>\n",
       "      <td>NaN</td>\n",
       "    </tr>\n",
       "    <tr>\n",
       "      <th>1986-03-14</th>\n",
       "      <td>0.063439</td>\n",
       "      <td>1.0</td>\n",
       "    </tr>\n",
       "    <tr>\n",
       "      <th>1986-03-17</th>\n",
       "      <td>0.064533</td>\n",
       "      <td>1.0</td>\n",
       "    </tr>\n",
       "    <tr>\n",
       "      <th>1986-03-18</th>\n",
       "      <td>0.062892</td>\n",
       "      <td>0.0</td>\n",
       "    </tr>\n",
       "  </tbody>\n",
       "</table>\n",
       "</div>"
      ],
      "text/plain": [
       "            Actual_Close  Target\n",
       "Date                            \n",
       "1986-03-13      0.061252     NaN\n",
       "1986-03-14      0.063439     1.0\n",
       "1986-03-17      0.064533     1.0\n",
       "1986-03-18      0.062892     0.0"
      ]
     },
     "execution_count": 9,
     "metadata": {},
     "output_type": "execute_result"
    }
   ],
   "source": [
    "data.head(4)"
   ]
  },
  {
   "cell_type": "code",
   "execution_count": 10,
   "id": "f7494c78",
   "metadata": {},
   "outputs": [
    {
     "data": {
      "text/html": [
       "<div>\n",
       "<style scoped>\n",
       "    .dataframe tbody tr th:only-of-type {\n",
       "        vertical-align: middle;\n",
       "    }\n",
       "\n",
       "    .dataframe tbody tr th {\n",
       "        vertical-align: top;\n",
       "    }\n",
       "\n",
       "    .dataframe thead th {\n",
       "        text-align: right;\n",
       "    }\n",
       "</style>\n",
       "<table border=\"1\" class=\"dataframe\">\n",
       "  <thead>\n",
       "    <tr style=\"text-align: right;\">\n",
       "      <th></th>\n",
       "      <th>Actual_Close</th>\n",
       "      <th>Target</th>\n",
       "    </tr>\n",
       "    <tr>\n",
       "      <th>Date</th>\n",
       "      <th></th>\n",
       "      <th></th>\n",
       "    </tr>\n",
       "  </thead>\n",
       "  <tbody>\n",
       "    <tr>\n",
       "      <th>1986-03-14</th>\n",
       "      <td>0.063439</td>\n",
       "      <td>1.0</td>\n",
       "    </tr>\n",
       "    <tr>\n",
       "      <th>1986-03-17</th>\n",
       "      <td>0.064533</td>\n",
       "      <td>1.0</td>\n",
       "    </tr>\n",
       "    <tr>\n",
       "      <th>1986-03-18</th>\n",
       "      <td>0.062892</td>\n",
       "      <td>0.0</td>\n",
       "    </tr>\n",
       "    <tr>\n",
       "      <th>1986-03-19</th>\n",
       "      <td>0.061799</td>\n",
       "      <td>0.0</td>\n",
       "    </tr>\n",
       "    <tr>\n",
       "      <th>1986-03-20</th>\n",
       "      <td>0.060158</td>\n",
       "      <td>0.0</td>\n",
       "    </tr>\n",
       "    <tr>\n",
       "      <th>...</th>\n",
       "      <td>...</td>\n",
       "      <td>...</td>\n",
       "    </tr>\n",
       "    <tr>\n",
       "      <th>2022-04-20</th>\n",
       "      <td>286.359985</td>\n",
       "      <td>1.0</td>\n",
       "    </tr>\n",
       "    <tr>\n",
       "      <th>2022-04-21</th>\n",
       "      <td>280.809998</td>\n",
       "      <td>0.0</td>\n",
       "    </tr>\n",
       "    <tr>\n",
       "      <th>2022-04-22</th>\n",
       "      <td>274.029999</td>\n",
       "      <td>0.0</td>\n",
       "    </tr>\n",
       "    <tr>\n",
       "      <th>2022-04-25</th>\n",
       "      <td>280.720001</td>\n",
       "      <td>1.0</td>\n",
       "    </tr>\n",
       "    <tr>\n",
       "      <th>2022-04-26</th>\n",
       "      <td>270.220001</td>\n",
       "      <td>0.0</td>\n",
       "    </tr>\n",
       "  </tbody>\n",
       "</table>\n",
       "<p>9104 rows × 2 columns</p>\n",
       "</div>"
      ],
      "text/plain": [
       "            Actual_Close  Target\n",
       "Date                            \n",
       "1986-03-14      0.063439     1.0\n",
       "1986-03-17      0.064533     1.0\n",
       "1986-03-18      0.062892     0.0\n",
       "1986-03-19      0.061799     0.0\n",
       "1986-03-20      0.060158     0.0\n",
       "...                  ...     ...\n",
       "2022-04-20    286.359985     1.0\n",
       "2022-04-21    280.809998     0.0\n",
       "2022-04-22    274.029999     0.0\n",
       "2022-04-25    280.720001     1.0\n",
       "2022-04-26    270.220001     0.0\n",
       "\n",
       "[9104 rows x 2 columns]"
      ]
     },
     "execution_count": 10,
     "metadata": {},
     "output_type": "execute_result"
    }
   ],
   "source": [
    "data.dropna()"
   ]
  },
  {
   "cell_type": "code",
   "execution_count": 11,
   "id": "09750318",
   "metadata": {},
   "outputs": [],
   "source": [
    "msft_prev = msft.copy()"
   ]
  },
  {
   "cell_type": "code",
   "execution_count": 12,
   "id": "7c8bd5c0",
   "metadata": {},
   "outputs": [],
   "source": [
    "msft_prev = msft_prev.shift(1) # we don't want to predict at the current date thats why we shift the row"
   ]
  },
  {
   "cell_type": "code",
   "execution_count": 13,
   "id": "72260bf4",
   "metadata": {},
   "outputs": [
    {
     "data": {
      "text/html": [
       "<div>\n",
       "<style scoped>\n",
       "    .dataframe tbody tr th:only-of-type {\n",
       "        vertical-align: middle;\n",
       "    }\n",
       "\n",
       "    .dataframe tbody tr th {\n",
       "        vertical-align: top;\n",
       "    }\n",
       "\n",
       "    .dataframe thead th {\n",
       "        text-align: right;\n",
       "    }\n",
       "</style>\n",
       "<table border=\"1\" class=\"dataframe\">\n",
       "  <thead>\n",
       "    <tr style=\"text-align: right;\">\n",
       "      <th></th>\n",
       "      <th>Open</th>\n",
       "      <th>High</th>\n",
       "      <th>Low</th>\n",
       "      <th>Close</th>\n",
       "      <th>Volume</th>\n",
       "      <th>Dividends</th>\n",
       "      <th>Stock Splits</th>\n",
       "    </tr>\n",
       "    <tr>\n",
       "      <th>Date</th>\n",
       "      <th></th>\n",
       "      <th></th>\n",
       "      <th></th>\n",
       "      <th></th>\n",
       "      <th></th>\n",
       "      <th></th>\n",
       "      <th></th>\n",
       "    </tr>\n",
       "  </thead>\n",
       "  <tbody>\n",
       "    <tr>\n",
       "      <th>1986-03-13</th>\n",
       "      <td>NaN</td>\n",
       "      <td>NaN</td>\n",
       "      <td>NaN</td>\n",
       "      <td>NaN</td>\n",
       "      <td>NaN</td>\n",
       "      <td>NaN</td>\n",
       "      <td>NaN</td>\n",
       "    </tr>\n",
       "    <tr>\n",
       "      <th>1986-03-14</th>\n",
       "      <td>0.055783</td>\n",
       "      <td>0.063987</td>\n",
       "      <td>0.055783</td>\n",
       "      <td>0.061252</td>\n",
       "      <td>1.031789e+09</td>\n",
       "      <td>0.0</td>\n",
       "      <td>0.0</td>\n",
       "    </tr>\n",
       "    <tr>\n",
       "      <th>1986-03-17</th>\n",
       "      <td>0.061252</td>\n",
       "      <td>0.064533</td>\n",
       "      <td>0.061252</td>\n",
       "      <td>0.063439</td>\n",
       "      <td>3.081600e+08</td>\n",
       "      <td>0.0</td>\n",
       "      <td>0.0</td>\n",
       "    </tr>\n",
       "    <tr>\n",
       "      <th>1986-03-18</th>\n",
       "      <td>0.063439</td>\n",
       "      <td>0.065080</td>\n",
       "      <td>0.063439</td>\n",
       "      <td>0.064533</td>\n",
       "      <td>1.331712e+08</td>\n",
       "      <td>0.0</td>\n",
       "      <td>0.0</td>\n",
       "    </tr>\n",
       "    <tr>\n",
       "      <th>1986-03-19</th>\n",
       "      <td>0.064533</td>\n",
       "      <td>0.065080</td>\n",
       "      <td>0.062345</td>\n",
       "      <td>0.062892</td>\n",
       "      <td>6.776640e+07</td>\n",
       "      <td>0.0</td>\n",
       "      <td>0.0</td>\n",
       "    </tr>\n",
       "  </tbody>\n",
       "</table>\n",
       "</div>"
      ],
      "text/plain": [
       "                Open      High       Low     Close        Volume  Dividends  \\\n",
       "Date                                                                          \n",
       "1986-03-13       NaN       NaN       NaN       NaN           NaN        NaN   \n",
       "1986-03-14  0.055783  0.063987  0.055783  0.061252  1.031789e+09        0.0   \n",
       "1986-03-17  0.061252  0.064533  0.061252  0.063439  3.081600e+08        0.0   \n",
       "1986-03-18  0.063439  0.065080  0.063439  0.064533  1.331712e+08        0.0   \n",
       "1986-03-19  0.064533  0.065080  0.062345  0.062892  6.776640e+07        0.0   \n",
       "\n",
       "            Stock Splits  \n",
       "Date                      \n",
       "1986-03-13           NaN  \n",
       "1986-03-14           0.0  \n",
       "1986-03-17           0.0  \n",
       "1986-03-18           0.0  \n",
       "1986-03-19           0.0  "
      ]
     },
     "execution_count": 13,
     "metadata": {},
     "output_type": "execute_result"
    }
   ],
   "source": [
    "msft_prev.head(5)"
   ]
  },
  {
   "cell_type": "code",
   "execution_count": 14,
   "id": "7d1db965",
   "metadata": {},
   "outputs": [
    {
     "data": {
      "text/html": [
       "<div>\n",
       "<style scoped>\n",
       "    .dataframe tbody tr th:only-of-type {\n",
       "        vertical-align: middle;\n",
       "    }\n",
       "\n",
       "    .dataframe tbody tr th {\n",
       "        vertical-align: top;\n",
       "    }\n",
       "\n",
       "    .dataframe thead th {\n",
       "        text-align: right;\n",
       "    }\n",
       "</style>\n",
       "<table border=\"1\" class=\"dataframe\">\n",
       "  <thead>\n",
       "    <tr style=\"text-align: right;\">\n",
       "      <th></th>\n",
       "      <th>Close</th>\n",
       "      <th>High</th>\n",
       "      <th>Open</th>\n",
       "      <th>Low</th>\n",
       "      <th>Volume</th>\n",
       "    </tr>\n",
       "    <tr>\n",
       "      <th>Date</th>\n",
       "      <th></th>\n",
       "      <th></th>\n",
       "      <th></th>\n",
       "      <th></th>\n",
       "      <th></th>\n",
       "    </tr>\n",
       "  </thead>\n",
       "  <tbody>\n",
       "    <tr>\n",
       "      <th>1986-03-13</th>\n",
       "      <td>NaN</td>\n",
       "      <td>NaN</td>\n",
       "      <td>NaN</td>\n",
       "      <td>NaN</td>\n",
       "      <td>NaN</td>\n",
       "    </tr>\n",
       "    <tr>\n",
       "      <th>1986-03-14</th>\n",
       "      <td>0.061252</td>\n",
       "      <td>0.063987</td>\n",
       "      <td>0.055783</td>\n",
       "      <td>0.055783</td>\n",
       "      <td>1.031789e+09</td>\n",
       "    </tr>\n",
       "    <tr>\n",
       "      <th>1986-03-17</th>\n",
       "      <td>0.063439</td>\n",
       "      <td>0.064533</td>\n",
       "      <td>0.061252</td>\n",
       "      <td>0.061252</td>\n",
       "      <td>3.081600e+08</td>\n",
       "    </tr>\n",
       "    <tr>\n",
       "      <th>1986-03-18</th>\n",
       "      <td>0.064533</td>\n",
       "      <td>0.065080</td>\n",
       "      <td>0.063439</td>\n",
       "      <td>0.063439</td>\n",
       "      <td>1.331712e+08</td>\n",
       "    </tr>\n",
       "    <tr>\n",
       "      <th>1986-03-19</th>\n",
       "      <td>0.062892</td>\n",
       "      <td>0.065080</td>\n",
       "      <td>0.064533</td>\n",
       "      <td>0.062345</td>\n",
       "      <td>6.776640e+07</td>\n",
       "    </tr>\n",
       "    <tr>\n",
       "      <th>...</th>\n",
       "      <td>...</td>\n",
       "      <td>...</td>\n",
       "      <td>...</td>\n",
       "      <td>...</td>\n",
       "      <td>...</td>\n",
       "    </tr>\n",
       "    <tr>\n",
       "      <th>2022-04-20</th>\n",
       "      <td>285.299988</td>\n",
       "      <td>286.170013</td>\n",
       "      <td>279.380005</td>\n",
       "      <td>278.410004</td>\n",
       "      <td>2.229770e+07</td>\n",
       "    </tr>\n",
       "    <tr>\n",
       "      <th>2022-04-21</th>\n",
       "      <td>286.359985</td>\n",
       "      <td>289.700012</td>\n",
       "      <td>289.399994</td>\n",
       "      <td>285.369995</td>\n",
       "      <td>2.290670e+07</td>\n",
       "    </tr>\n",
       "    <tr>\n",
       "      <th>2022-04-22</th>\n",
       "      <td>280.809998</td>\n",
       "      <td>293.299988</td>\n",
       "      <td>288.579987</td>\n",
       "      <td>280.059998</td>\n",
       "      <td>2.945460e+07</td>\n",
       "    </tr>\n",
       "    <tr>\n",
       "      <th>2022-04-25</th>\n",
       "      <td>274.029999</td>\n",
       "      <td>283.200012</td>\n",
       "      <td>281.679993</td>\n",
       "      <td>273.380005</td>\n",
       "      <td>2.937930e+07</td>\n",
       "    </tr>\n",
       "    <tr>\n",
       "      <th>2022-04-26</th>\n",
       "      <td>280.720001</td>\n",
       "      <td>281.109985</td>\n",
       "      <td>273.290009</td>\n",
       "      <td>270.769989</td>\n",
       "      <td>3.567890e+07</td>\n",
       "    </tr>\n",
       "  </tbody>\n",
       "</table>\n",
       "<p>9105 rows × 5 columns</p>\n",
       "</div>"
      ],
      "text/plain": [
       "                 Close        High        Open         Low        Volume\n",
       "Date                                                                    \n",
       "1986-03-13         NaN         NaN         NaN         NaN           NaN\n",
       "1986-03-14    0.061252    0.063987    0.055783    0.055783  1.031789e+09\n",
       "1986-03-17    0.063439    0.064533    0.061252    0.061252  3.081600e+08\n",
       "1986-03-18    0.064533    0.065080    0.063439    0.063439  1.331712e+08\n",
       "1986-03-19    0.062892    0.065080    0.064533    0.062345  6.776640e+07\n",
       "...                ...         ...         ...         ...           ...\n",
       "2022-04-20  285.299988  286.170013  279.380005  278.410004  2.229770e+07\n",
       "2022-04-21  286.359985  289.700012  289.399994  285.369995  2.290670e+07\n",
       "2022-04-22  280.809998  293.299988  288.579987  280.059998  2.945460e+07\n",
       "2022-04-25  274.029999  283.200012  281.679993  273.380005  2.937930e+07\n",
       "2022-04-26  280.720001  281.109985  273.290009  270.769989  3.567890e+07\n",
       "\n",
       "[9105 rows x 5 columns]"
      ]
     },
     "execution_count": 14,
     "metadata": {},
     "output_type": "execute_result"
    }
   ],
   "source": [
    "predictors = [\"Close\", \"High\",\"Open\",\"Low\", \"Volume\"]\n",
    "msft_prev[predictors]"
   ]
  },
  {
   "cell_type": "code",
   "execution_count": 15,
   "id": "ee4f2cbd",
   "metadata": {},
   "outputs": [],
   "source": [
    "data = data.join(msft_prev[predictors], lsuffix='_left',rsuffix = '_right').iloc[1:] #If we have a column with the same name in both the DataFrames we are trying to join using the DataFrame.join() method, we get an error with the message ValueError: columns overlap but no suffix specified. We can set the values of lsuffix and rsuffix parameters in the DataFrame.join() method to solve the error."
   ]
  },
  {
   "cell_type": "code",
   "execution_count": 16,
   "id": "a7d007ce",
   "metadata": {},
   "outputs": [
    {
     "data": {
      "text/html": [
       "<div>\n",
       "<style scoped>\n",
       "    .dataframe tbody tr th:only-of-type {\n",
       "        vertical-align: middle;\n",
       "    }\n",
       "\n",
       "    .dataframe tbody tr th {\n",
       "        vertical-align: top;\n",
       "    }\n",
       "\n",
       "    .dataframe thead th {\n",
       "        text-align: right;\n",
       "    }\n",
       "</style>\n",
       "<table border=\"1\" class=\"dataframe\">\n",
       "  <thead>\n",
       "    <tr style=\"text-align: right;\">\n",
       "      <th></th>\n",
       "      <th>Actual_Close</th>\n",
       "      <th>Target</th>\n",
       "      <th>Close</th>\n",
       "      <th>High</th>\n",
       "      <th>Open</th>\n",
       "      <th>Low</th>\n",
       "      <th>Volume</th>\n",
       "    </tr>\n",
       "    <tr>\n",
       "      <th>Date</th>\n",
       "      <th></th>\n",
       "      <th></th>\n",
       "      <th></th>\n",
       "      <th></th>\n",
       "      <th></th>\n",
       "      <th></th>\n",
       "      <th></th>\n",
       "    </tr>\n",
       "  </thead>\n",
       "  <tbody>\n",
       "    <tr>\n",
       "      <th>1986-03-14</th>\n",
       "      <td>0.063439</td>\n",
       "      <td>1.0</td>\n",
       "      <td>0.061252</td>\n",
       "      <td>0.063987</td>\n",
       "      <td>0.055783</td>\n",
       "      <td>0.055783</td>\n",
       "      <td>1.031789e+09</td>\n",
       "    </tr>\n",
       "    <tr>\n",
       "      <th>1986-03-17</th>\n",
       "      <td>0.064533</td>\n",
       "      <td>1.0</td>\n",
       "      <td>0.063439</td>\n",
       "      <td>0.064533</td>\n",
       "      <td>0.061252</td>\n",
       "      <td>0.061252</td>\n",
       "      <td>3.081600e+08</td>\n",
       "    </tr>\n",
       "    <tr>\n",
       "      <th>1986-03-18</th>\n",
       "      <td>0.062892</td>\n",
       "      <td>0.0</td>\n",
       "      <td>0.064533</td>\n",
       "      <td>0.065080</td>\n",
       "      <td>0.063439</td>\n",
       "      <td>0.063439</td>\n",
       "      <td>1.331712e+08</td>\n",
       "    </tr>\n",
       "    <tr>\n",
       "      <th>1986-03-19</th>\n",
       "      <td>0.061799</td>\n",
       "      <td>0.0</td>\n",
       "      <td>0.062892</td>\n",
       "      <td>0.065080</td>\n",
       "      <td>0.064533</td>\n",
       "      <td>0.062345</td>\n",
       "      <td>6.776640e+07</td>\n",
       "    </tr>\n",
       "    <tr>\n",
       "      <th>1986-03-20</th>\n",
       "      <td>0.060158</td>\n",
       "      <td>0.0</td>\n",
       "      <td>0.061799</td>\n",
       "      <td>0.063439</td>\n",
       "      <td>0.062892</td>\n",
       "      <td>0.061252</td>\n",
       "      <td>4.789440e+07</td>\n",
       "    </tr>\n",
       "  </tbody>\n",
       "</table>\n",
       "</div>"
      ],
      "text/plain": [
       "            Actual_Close  Target     Close      High      Open       Low  \\\n",
       "Date                                                                       \n",
       "1986-03-14      0.063439     1.0  0.061252  0.063987  0.055783  0.055783   \n",
       "1986-03-17      0.064533     1.0  0.063439  0.064533  0.061252  0.061252   \n",
       "1986-03-18      0.062892     0.0  0.064533  0.065080  0.063439  0.063439   \n",
       "1986-03-19      0.061799     0.0  0.062892  0.065080  0.064533  0.062345   \n",
       "1986-03-20      0.060158     0.0  0.061799  0.063439  0.062892  0.061252   \n",
       "\n",
       "                  Volume  \n",
       "Date                      \n",
       "1986-03-14  1.031789e+09  \n",
       "1986-03-17  3.081600e+08  \n",
       "1986-03-18  1.331712e+08  \n",
       "1986-03-19  6.776640e+07  \n",
       "1986-03-20  4.789440e+07  "
      ]
     },
     "execution_count": 16,
     "metadata": {},
     "output_type": "execute_result"
    }
   ],
   "source": [
    "data.head(5)"
   ]
  },
  {
   "cell_type": "markdown",
   "id": "7586ef4a",
   "metadata": {},
   "source": [
    "## Training the Machine Learning Model"
   ]
  },
  {
   "cell_type": "code",
   "execution_count": 17,
   "id": "39c80218",
   "metadata": {},
   "outputs": [],
   "source": [
    "from sklearn.ensemble import RandomForestClassifier \n",
    "# random forest is a good machine learning model that is robust to overfitting and can provide non linear relations if parameters are set properly.\n",
    "#Here a classifier is used instead of regression as the target variable is binary."
   ]
  },
  {
   "cell_type": "code",
   "execution_count": 18,
   "id": "3aef6110",
   "metadata": {},
   "outputs": [],
   "source": [
    "model = RandomForestClassifier(n_estimators = 100, min_samples_split = 200, random_state = 1)                                        # n_estimators indicate how many individual trees we want to train.\n",
    "                                                                                                                 # minimum samples prevent the tree from overfitting(model overfitting performs well on training data but not on test data)\n",
    "                                                                                                                 #  random state is set so that algorithm doesnt give the same result twice"
   ]
  },
  {
   "cell_type": "code",
   "execution_count": 19,
   "id": "ee305aff",
   "metadata": {},
   "outputs": [
    {
     "data": {
      "text/plain": [
       "1.0    4603\n",
       "0.0    4501\n",
       "Name: Target, dtype: int64"
      ]
     },
     "execution_count": 19,
     "metadata": {},
     "output_type": "execute_result"
    }
   ],
   "source": [
    "train = data.iloc[:-100]\n",
    "test  = data.iloc[-100:]\n",
    "\n",
    "model.fit(train[predictors],train[\"Target\"])\n",
    "\n",
    "data['Target'].value_counts()"
   ]
  },
  {
   "cell_type": "code",
   "execution_count": 20,
   "id": "5d0dd182",
   "metadata": {},
   "outputs": [],
   "source": [
    "from sklearn.metrics import precision_score"
   ]
  },
  {
   "cell_type": "code",
   "execution_count": 21,
   "id": "2d7a4a98",
   "metadata": {},
   "outputs": [
    {
     "data": {
      "text/plain": [
       "array([1., 1., 1., 1., 1., 1., 1., 1., 1., 1., 1., 1., 1., 1., 1., 1., 1.,\n",
       "       0., 0., 0., 0., 0., 1., 1., 1., 1., 1., 1., 1., 1., 1., 1., 1., 1.,\n",
       "       1., 1., 1., 1., 1., 1., 1., 1., 1., 1., 1., 1., 1., 1., 1., 1., 1.,\n",
       "       1., 1., 1., 1., 1., 1., 1., 1., 1., 1., 1., 1., 1., 1., 1., 1., 1.,\n",
       "       1., 1., 1., 1., 1., 1., 1., 1., 1., 1., 1., 0., 1., 1., 1., 1., 1.,\n",
       "       1., 0., 1., 1., 1., 1., 1., 0., 1., 0., 0., 0., 1., 1., 1.])"
      ]
     },
     "execution_count": 21,
     "metadata": {},
     "output_type": "execute_result"
    }
   ],
   "source": [
    "preds = model.predict(test[predictors])\n",
    "preds"
   ]
  },
  {
   "cell_type": "code",
   "execution_count": 22,
   "id": "2975960b",
   "metadata": {},
   "outputs": [
    {
     "data": {
      "text/plain": [
       "Date\n",
       "2021-12-02    1.0\n",
       "2021-12-03    1.0\n",
       "2021-12-06    1.0\n",
       "2021-12-07    1.0\n",
       "2021-12-08    1.0\n",
       "             ... \n",
       "2022-04-20    0.0\n",
       "2022-04-21    0.0\n",
       "2022-04-22    1.0\n",
       "2022-04-25    1.0\n",
       "2022-04-26    1.0\n",
       "Length: 100, dtype: float64"
      ]
     },
     "execution_count": 22,
     "metadata": {},
     "output_type": "execute_result"
    }
   ],
   "source": [
    "preds = pd.Series(preds , index = test.index)\n",
    "preds"
   ]
  },
  {
   "cell_type": "code",
   "execution_count": 23,
   "id": "c9e6f4f9",
   "metadata": {},
   "outputs": [
    {
     "data": {
      "text/plain": [
       "0.48314606741573035"
      ]
     },
     "execution_count": 23,
     "metadata": {},
     "output_type": "execute_result"
    }
   ],
   "source": [
    "precision_score(test['Target'], preds) # precision score is used so that we can maximise our precision and minimize the losses while "
   ]
  },
  {
   "cell_type": "code",
   "execution_count": 24,
   "id": "877bebdd",
   "metadata": {},
   "outputs": [],
   "source": [
    "combined = pd.concat({\"Target\":test[\"Target\"],\"Predictions\":preds},axis = 1)"
   ]
  },
  {
   "cell_type": "code",
   "execution_count": 25,
   "id": "d5abaea8",
   "metadata": {},
   "outputs": [
    {
     "data": {
      "text/html": [
       "<div>\n",
       "<style scoped>\n",
       "    .dataframe tbody tr th:only-of-type {\n",
       "        vertical-align: middle;\n",
       "    }\n",
       "\n",
       "    .dataframe tbody tr th {\n",
       "        vertical-align: top;\n",
       "    }\n",
       "\n",
       "    .dataframe thead th {\n",
       "        text-align: right;\n",
       "    }\n",
       "</style>\n",
       "<table border=\"1\" class=\"dataframe\">\n",
       "  <thead>\n",
       "    <tr style=\"text-align: right;\">\n",
       "      <th></th>\n",
       "      <th>Target</th>\n",
       "      <th>Predictions</th>\n",
       "    </tr>\n",
       "    <tr>\n",
       "      <th>Date</th>\n",
       "      <th></th>\n",
       "      <th></th>\n",
       "    </tr>\n",
       "  </thead>\n",
       "  <tbody>\n",
       "    <tr>\n",
       "      <th>2021-12-02</th>\n",
       "      <td>0.0</td>\n",
       "      <td>1.0</td>\n",
       "    </tr>\n",
       "    <tr>\n",
       "      <th>2021-12-03</th>\n",
       "      <td>0.0</td>\n",
       "      <td>1.0</td>\n",
       "    </tr>\n",
       "    <tr>\n",
       "      <th>2021-12-06</th>\n",
       "      <td>1.0</td>\n",
       "      <td>1.0</td>\n",
       "    </tr>\n",
       "    <tr>\n",
       "      <th>2021-12-07</th>\n",
       "      <td>1.0</td>\n",
       "      <td>1.0</td>\n",
       "    </tr>\n",
       "    <tr>\n",
       "      <th>2021-12-08</th>\n",
       "      <td>1.0</td>\n",
       "      <td>1.0</td>\n",
       "    </tr>\n",
       "    <tr>\n",
       "      <th>...</th>\n",
       "      <td>...</td>\n",
       "      <td>...</td>\n",
       "    </tr>\n",
       "    <tr>\n",
       "      <th>2022-04-20</th>\n",
       "      <td>1.0</td>\n",
       "      <td>0.0</td>\n",
       "    </tr>\n",
       "    <tr>\n",
       "      <th>2022-04-21</th>\n",
       "      <td>0.0</td>\n",
       "      <td>0.0</td>\n",
       "    </tr>\n",
       "    <tr>\n",
       "      <th>2022-04-22</th>\n",
       "      <td>0.0</td>\n",
       "      <td>1.0</td>\n",
       "    </tr>\n",
       "    <tr>\n",
       "      <th>2022-04-25</th>\n",
       "      <td>1.0</td>\n",
       "      <td>1.0</td>\n",
       "    </tr>\n",
       "    <tr>\n",
       "      <th>2022-04-26</th>\n",
       "      <td>0.0</td>\n",
       "      <td>1.0</td>\n",
       "    </tr>\n",
       "  </tbody>\n",
       "</table>\n",
       "<p>100 rows × 2 columns</p>\n",
       "</div>"
      ],
      "text/plain": [
       "            Target  Predictions\n",
       "Date                           \n",
       "2021-12-02     0.0          1.0\n",
       "2021-12-03     0.0          1.0\n",
       "2021-12-06     1.0          1.0\n",
       "2021-12-07     1.0          1.0\n",
       "2021-12-08     1.0          1.0\n",
       "...            ...          ...\n",
       "2022-04-20     1.0          0.0\n",
       "2022-04-21     0.0          0.0\n",
       "2022-04-22     0.0          1.0\n",
       "2022-04-25     1.0          1.0\n",
       "2022-04-26     0.0          1.0\n",
       "\n",
       "[100 rows x 2 columns]"
      ]
     },
     "execution_count": 25,
     "metadata": {},
     "output_type": "execute_result"
    }
   ],
   "source": [
    "combined"
   ]
  },
  {
   "cell_type": "code",
   "execution_count": 26,
   "id": "361ade24",
   "metadata": {},
   "outputs": [
    {
     "data": {
      "text/plain": [
       "<AxesSubplot:xlabel='Date'>"
      ]
     },
     "execution_count": 26,
     "metadata": {},
     "output_type": "execute_result"
    },
    {
     "data": {
      "image/png": "[encoded data removed]",
      "text/plain": [
       "<Figure size 432x288 with 1 Axes>"
      ]
     },
     "metadata": {
      "needs_background": "light"
     },
     "output_type": "display_data"
    }
   ],
   "source": [
    "combined.plot()"
   ]
  },
  {
   "cell_type": "markdown",
   "id": "6781d756",
   "metadata": {},
   "source": [
    "# Creating the Backtesting"
   ]
  },
  {
   "cell_type": "code",
   "execution_count": 27,
   "id": "07df343b",
   "metadata": {},
   "outputs": [],
   "source": [
    "#Backtesting is the general method for seeing how well a strategy or model would have done ex-post. Backtesting assesses the viability of a trading strategy by discovering how it would play out using historical data. If backtesting works, traders and analysts may have the confidence to employ it going forward."
   ]
  },
  {
   "cell_type": "code",
   "execution_count": 156,
   "id": "e843a0f0",
   "metadata": {},
   "outputs": [],
   "source": [
    "# backtesting enables us to determine error on every single row in our dataset which makes it much better and much more reliable\n",
    "start = 1000\n",
    "step = 750    # lower the steps for better prediction\n",
    "def backtest(data , model , predictors , start = 1000, step = 750):\n",
    "    predictions = []\n",
    "\n",
    "    for i in range(start,data.shape[0], step):\n",
    "\n",
    "        train = data.iloc[0:i].copy()\n",
    "        test = data.iloc[i:(i+step)].copy()\n",
    "\n",
    "        model.fit(train[predictors],train[\"Target\"])\n",
    "        preds = model.predict_proba(test[predictors])[:,1] # 1d array\n",
    "        preds = pd.Series(preds, index= test.index)\n",
    "        preds[preds > .6] = 1\n",
    "        preds[preds <= .6] = 0\n",
    "\n",
    "        combined = pd.concat({'Target':test['Target'], \"Predictions\":preds} , axis = 1)\n",
    "        predictions.append(combined)\n",
    "    predictions = pd.concat(predictions)\n",
    "    return predictions"
   ]
  },
  {
   "cell_type": "code",
   "execution_count": 157,
   "id": "041e8152",
   "metadata": {},
   "outputs": [
    {
     "data": {
      "text/html": [
       "<div>\n",
       "<style scoped>\n",
       "    .dataframe tbody tr th:only-of-type {\n",
       "        vertical-align: middle;\n",
       "    }\n",
       "\n",
       "    .dataframe tbody tr th {\n",
       "        vertical-align: top;\n",
       "    }\n",
       "\n",
       "    .dataframe thead th {\n",
       "        text-align: right;\n",
       "    }\n",
       "</style>\n",
       "<table border=\"1\" class=\"dataframe\">\n",
       "  <thead>\n",
       "    <tr style=\"text-align: right;\">\n",
       "      <th></th>\n",
       "      <th>Actual_Close</th>\n",
       "      <th>Target</th>\n",
       "      <th>Close</th>\n",
       "      <th>High</th>\n",
       "      <th>Open</th>\n",
       "      <th>Low</th>\n",
       "      <th>Volume</th>\n",
       "    </tr>\n",
       "    <tr>\n",
       "      <th>Date</th>\n",
       "      <th></th>\n",
       "      <th></th>\n",
       "      <th></th>\n",
       "      <th></th>\n",
       "      <th></th>\n",
       "      <th></th>\n",
       "      <th></th>\n",
       "    </tr>\n",
       "  </thead>\n",
       "  <tbody>\n",
       "    <tr>\n",
       "      <th>1986-03-14</th>\n",
       "      <td>0.063439</td>\n",
       "      <td>1.0</td>\n",
       "      <td>0.061252</td>\n",
       "      <td>0.063987</td>\n",
       "      <td>0.055783</td>\n",
       "      <td>0.055783</td>\n",
       "      <td>1.031789e+09</td>\n",
       "    </tr>\n",
       "    <tr>\n",
       "      <th>1986-03-17</th>\n",
       "      <td>0.064533</td>\n",
       "      <td>1.0</td>\n",
       "      <td>0.063439</td>\n",
       "      <td>0.064533</td>\n",
       "      <td>0.061252</td>\n",
       "      <td>0.061252</td>\n",
       "      <td>3.081600e+08</td>\n",
       "    </tr>\n",
       "    <tr>\n",
       "      <th>1986-03-18</th>\n",
       "      <td>0.062892</td>\n",
       "      <td>0.0</td>\n",
       "      <td>0.064533</td>\n",
       "      <td>0.065080</td>\n",
       "      <td>0.063439</td>\n",
       "      <td>0.063439</td>\n",
       "      <td>1.331712e+08</td>\n",
       "    </tr>\n",
       "    <tr>\n",
       "      <th>1986-03-19</th>\n",
       "      <td>0.061799</td>\n",
       "      <td>0.0</td>\n",
       "      <td>0.062892</td>\n",
       "      <td>0.065080</td>\n",
       "      <td>0.064533</td>\n",
       "      <td>0.062345</td>\n",
       "      <td>6.776640e+07</td>\n",
       "    </tr>\n",
       "    <tr>\n",
       "      <th>1986-03-20</th>\n",
       "      <td>0.060158</td>\n",
       "      <td>0.0</td>\n",
       "      <td>0.061799</td>\n",
       "      <td>0.063439</td>\n",
       "      <td>0.062892</td>\n",
       "      <td>0.061252</td>\n",
       "      <td>4.789440e+07</td>\n",
       "    </tr>\n",
       "    <tr>\n",
       "      <th>...</th>\n",
       "      <td>...</td>\n",
       "      <td>...</td>\n",
       "      <td>...</td>\n",
       "      <td>...</td>\n",
       "      <td>...</td>\n",
       "      <td>...</td>\n",
       "      <td>...</td>\n",
       "    </tr>\n",
       "    <tr>\n",
       "      <th>2019-11-25</th>\n",
       "      <td>148.094574</td>\n",
       "      <td>1.0</td>\n",
       "      <td>146.488571</td>\n",
       "      <td>147.183857</td>\n",
       "      <td>146.958630</td>\n",
       "      <td>145.734546</td>\n",
       "      <td>1.590180e+07</td>\n",
       "    </tr>\n",
       "    <tr>\n",
       "      <th>2019-11-26</th>\n",
       "      <td>148.877960</td>\n",
       "      <td>1.0</td>\n",
       "      <td>148.094574</td>\n",
       "      <td>148.212096</td>\n",
       "      <td>146.890080</td>\n",
       "      <td>146.811736</td>\n",
       "      <td>2.242090e+07</td>\n",
       "    </tr>\n",
       "    <tr>\n",
       "      <th>2019-11-27</th>\n",
       "      <td>149.161942</td>\n",
       "      <td>1.0</td>\n",
       "      <td>148.877960</td>\n",
       "      <td>149.259874</td>\n",
       "      <td>148.221853</td>\n",
       "      <td>148.182689</td>\n",
       "      <td>2.462010e+07</td>\n",
       "    </tr>\n",
       "    <tr>\n",
       "      <th>2019-11-29</th>\n",
       "      <td>148.241470</td>\n",
       "      <td>0.0</td>\n",
       "      <td>149.161942</td>\n",
       "      <td>149.338202</td>\n",
       "      <td>149.171729</td>\n",
       "      <td>148.378525</td>\n",
       "      <td>1.518440e+07</td>\n",
       "    </tr>\n",
       "    <tr>\n",
       "      <th>2019-12-02</th>\n",
       "      <td>146.449387</td>\n",
       "      <td>0.0</td>\n",
       "      <td>148.241470</td>\n",
       "      <td>149.142394</td>\n",
       "      <td>148.946544</td>\n",
       "      <td>148.143538</td>\n",
       "      <td>1.197730e+07</td>\n",
       "    </tr>\n",
       "  </tbody>\n",
       "</table>\n",
       "<p>8500 rows × 7 columns</p>\n",
       "</div>"
      ],
      "text/plain": [
       "            Actual_Close  Target       Close        High        Open  \\\n",
       "Date                                                                   \n",
       "1986-03-14      0.063439     1.0    0.061252    0.063987    0.055783   \n",
       "1986-03-17      0.064533     1.0    0.063439    0.064533    0.061252   \n",
       "1986-03-18      0.062892     0.0    0.064533    0.065080    0.063439   \n",
       "1986-03-19      0.061799     0.0    0.062892    0.065080    0.064533   \n",
       "1986-03-20      0.060158     0.0    0.061799    0.063439    0.062892   \n",
       "...                  ...     ...         ...         ...         ...   \n",
       "2019-11-25    148.094574     1.0  146.488571  147.183857  146.958630   \n",
       "2019-11-26    148.877960     1.0  148.094574  148.212096  146.890080   \n",
       "2019-11-27    149.161942     1.0  148.877960  149.259874  148.221853   \n",
       "2019-11-29    148.241470     0.0  149.161942  149.338202  149.171729   \n",
       "2019-12-02    146.449387     0.0  148.241470  149.142394  148.946544   \n",
       "\n",
       "                   Low        Volume  \n",
       "Date                                  \n",
       "1986-03-14    0.055783  1.031789e+09  \n",
       "1986-03-17    0.061252  3.081600e+08  \n",
       "1986-03-18    0.063439  1.331712e+08  \n",
       "1986-03-19    0.062345  6.776640e+07  \n",
       "1986-03-20    0.061252  4.789440e+07  \n",
       "...                ...           ...  \n",
       "2019-11-25  145.734546  1.590180e+07  \n",
       "2019-11-26  146.811736  2.242090e+07  \n",
       "2019-11-27  148.182689  2.462010e+07  \n",
       "2019-11-29  148.378525  1.518440e+07  \n",
       "2019-12-02  148.143538  1.197730e+07  \n",
       "\n",
       "[8500 rows x 7 columns]"
      ]
     },
     "execution_count": 157,
     "metadata": {},
     "output_type": "execute_result"
    }
   ],
   "source": [
    "train"
   ]
  },
  {
   "cell_type": "code",
   "execution_count": 158,
   "id": "edd98c4a",
   "metadata": {},
   "outputs": [],
   "source": [
    "model.fit(train[predictors],train[\"Target\"])\n",
    "preds = model.predict_proba(test[predictors])[:,1]"
   ]
  },
  {
   "cell_type": "code",
   "execution_count": 159,
   "id": "4551f929",
   "metadata": {},
   "outputs": [
    {
     "data": {
      "text/plain": [
       "array([0.50387288, 0.51142006, 0.52633073, 0.51633073, 0.50633073,\n",
       "       0.50633073, 0.50633073, 0.50863953, 0.48290154, 0.48290154,\n",
       "       0.48290154, 0.48290154, 0.48290154, 0.48290154, 0.47693383,\n",
       "       0.49781221, 0.50169696, 0.50169696, 0.50012102, 0.50169696,\n",
       "       0.50012102, 0.49053615, 0.47926926, 0.47926926, 0.47926926,\n",
       "       0.48535436, 0.47926926, 0.48567925, 0.47926926, 0.4860388 ,\n",
       "       0.47926926, 0.48290154, 0.50083709, 0.48535436, 0.48290154,\n",
       "       0.50126545, 0.48290154, 0.49811854, 0.48290154, 0.50083709,\n",
       "       0.47693383, 0.50083709, 0.48316785, 0.50083709, 0.50083709,\n",
       "       0.48535436, 0.50083709, 0.50083709, 0.47693383, 0.47693383,\n",
       "       0.50083709, 0.4860388 , 0.48535436, 0.48316785, 0.50083709,\n",
       "       0.47693383, 0.47585169, 0.47585169, 0.47693383, 0.48101965,\n",
       "       0.48101965, 0.48101965, 0.48101965, 0.47693383, 0.47693383,\n",
       "       0.48101965, 0.47585169, 0.4777628 , 0.47693383, 0.4699846 ,\n",
       "       0.47703014, 0.60118168, 0.51122817, 0.49795468, 0.46269341,\n",
       "       0.50719775, 0.4962566 , 0.49554866, 0.50101965, 0.4877628 ,\n",
       "       0.47693383, 0.4777628 , 0.48101965, 0.47693383, 0.47693383,\n",
       "       0.50083709, 0.4777628 , 0.4777628 , 0.47693383, 0.47693383,\n",
       "       0.50083709, 0.47693383, 0.50083709, 0.47693383, 0.47693383,\n",
       "       0.50083709, 0.47693383, 0.50083709, 0.49822736, 0.50083709,\n",
       "       0.49822736, 0.50083709, 0.47693383, 0.47693383, 0.50083709,\n",
       "       0.48509815, 0.50083709, 0.50075773, 0.48535436, 0.48509815,\n",
       "       0.48509815, 0.49462647, 0.49998201, 0.50083709, 0.47693383,\n",
       "       0.50083709, 0.47785583, 0.48960365, 0.48535436, 0.47926926,\n",
       "       0.50083709, 0.50083709, 0.50083709, 0.50083709, 0.49053615,\n",
       "       0.48509815, 0.4831527 , 0.48535436, 0.50083709, 0.49822736,\n",
       "       0.48535436, 0.50121812, 0.47693383, 0.49967612, 0.49822736,\n",
       "       0.50083709, 0.48290154, 0.4860388 , 0.49998201, 0.49822736,\n",
       "       0.48509815, 0.50083709, 0.48535436, 0.47693383, 0.48290154,\n",
       "       0.50083709, 0.49811854, 0.48535436, 0.49228146, 0.50083709,\n",
       "       0.50083709, 0.49822736, 0.48290154, 0.50083709, 0.50083709,\n",
       "       0.50075773, 0.48316785, 0.49228146, 0.50083709, 0.50083709,\n",
       "       0.47693383, 0.4777628 , 0.50083709, 0.48316785, 0.4860388 ,\n",
       "       0.50126545, 0.48290154, 0.47693383, 0.48101965, 0.47693383,\n",
       "       0.48535436, 0.49822736, 0.48535436, 0.50083709, 0.50083709,\n",
       "       0.48535436, 0.49053615, 0.49781221, 0.50126545, 0.47926926,\n",
       "       0.48535436, 0.48124449, 0.50083709, 0.48290154, 0.4860388 ,\n",
       "       0.50083709, 0.47693383, 0.48290154, 0.48535436, 0.48290154,\n",
       "       0.50083709, 0.47693383, 0.47728661, 0.47693383, 0.48001189,\n",
       "       0.50083709, 0.50083709, 0.48509815, 0.47926926, 0.48290154,\n",
       "       0.50083709, 0.47693383, 0.50083709, 0.50083709, 0.48509815,\n",
       "       0.48960365, 0.48535436, 0.49228146, 0.48290154, 0.50083709,\n",
       "       0.48124449, 0.49822736, 0.47926926, 0.48535436, 0.48290154,\n",
       "       0.50126545, 0.48290154, 0.50083709, 0.48535436, 0.4860388 ,\n",
       "       0.49053615, 0.48290154, 0.48535436, 0.49053615, 0.49053615,\n",
       "       0.4839806 , 0.50012102, 0.50083709, 0.50083709, 0.47693383,\n",
       "       0.48960365, 0.50083709, 0.48509815, 0.48535436, 0.50083709,\n",
       "       0.50083709, 0.48290154, 0.49998201, 0.50121812, 0.48535436,\n",
       "       0.47926926, 0.50012102, 0.48290154, 0.48290154, 0.48535436,\n",
       "       0.48290154, 0.49053615, 0.48290154, 0.50083709, 0.47926926,\n",
       "       0.50169696, 0.49822736, 0.48509815, 0.48290154, 0.48290154,\n",
       "       0.48290154, 0.48290154, 0.4860388 , 0.49822736, 0.48290154,\n",
       "       0.48509815, 0.48535436, 0.48124449, 0.50083709, 0.49822736,\n",
       "       0.4777628 , 0.50083709, 0.49053615, 0.50012102, 0.50169696,\n",
       "       0.49781221, 0.49781221, 0.49801661, 0.47926926, 0.50083709,\n",
       "       0.48290154, 0.50083709, 0.48535436, 0.4860388 , 0.4860388 ,\n",
       "       0.4860388 , 0.50126545, 0.48535436, 0.49228146, 0.48509815,\n",
       "       0.50083709, 0.48509815, 0.48316785, 0.49822736, 0.47693383,\n",
       "       0.47585169, 0.47693383, 0.50083709, 0.50083709, 0.48290154,\n",
       "       0.48124449, 0.48290154, 0.50012102, 0.4839806 , 0.4860388 ,\n",
       "       0.4839806 , 0.50169696, 0.49781221, 0.48290154, 0.47926926,\n",
       "       0.49781221, 0.48290154, 0.50083709, 0.48316785, 0.48290154,\n",
       "       0.50083709, 0.50083709, 0.48290154, 0.49053615, 0.50083709,\n",
       "       0.49998201, 0.50083709, 0.50083709, 0.49822736, 0.48535436,\n",
       "       0.48316785, 0.49053615, 0.48290154, 0.48535436, 0.48535436,\n",
       "       0.50083709, 0.47693383, 0.48316785, 0.49228146, 0.48290154,\n",
       "       0.50083709, 0.48290154, 0.48290154, 0.48290154, 0.50116469,\n",
       "       0.48509815, 0.50083709, 0.4860388 , 0.49053615, 0.4860388 ,\n",
       "       0.48290154, 0.48124449, 0.48290154, 0.4860388 , 0.48290154,\n",
       "       0.48290154, 0.4860388 , 0.50126545, 0.48290154, 0.48290154,\n",
       "       0.47926926, 0.50126545, 0.48509815, 0.47693383, 0.50083709,\n",
       "       0.48509815, 0.50126545, 0.49822736, 0.47926926, 0.48290154,\n",
       "       0.48124449, 0.48535436, 0.50083709, 0.50083709, 0.48535436,\n",
       "       0.48290154, 0.48290154, 0.50126545, 0.48290154, 0.47926926,\n",
       "       0.47926926, 0.47926926, 0.49781221, 0.49781221, 0.48290154,\n",
       "       0.50012102, 0.4860388 , 0.50363247, 0.48290154, 0.48290154,\n",
       "       0.4860388 , 0.49053615, 0.49781221, 0.48290154, 0.50012102,\n",
       "       0.50363247, 0.50012102, 0.4831527 , 0.48535436, 0.50083709,\n",
       "       0.48290154, 0.48290154, 0.50126545, 0.47926926, 0.48290154,\n",
       "       0.50126545, 0.50126545, 0.47926926, 0.49781221, 0.48290154,\n",
       "       0.49228146, 0.4860388 , 0.48290154, 0.48290154, 0.50012102,\n",
       "       0.48290154, 0.4860388 , 0.49053615, 0.48290154, 0.49822736,\n",
       "       0.48290154, 0.48290154, 0.4860388 , 0.49053615, 0.4860388 ,\n",
       "       0.50083709, 0.50083709, 0.50012102, 0.47926926, 0.50169696,\n",
       "       0.49781221, 0.50169696, 0.50169696, 0.49781221, 0.50169696,\n",
       "       0.50012102, 0.50169696, 0.50169696, 0.50012102, 0.49053615,\n",
       "       0.50126545, 0.47926926, 0.48535436, 0.50083709, 0.49053615,\n",
       "       0.50012102, 0.50126545, 0.49781221, 0.49053615, 0.50169696,\n",
       "       0.48290154, 0.50012102, 0.50169696, 0.50169696, 0.49781221,\n",
       "       0.50169696, 0.50126545, 0.50126545, 0.4860388 , 0.47926926,\n",
       "       0.48535436, 0.50126545, 0.50083709, 0.50083709, 0.4839806 ,\n",
       "       0.48290154, 0.50012102, 0.50169696, 0.4860388 , 0.49967612,\n",
       "       0.48290154, 0.49822736, 0.48316785, 0.48960365, 0.48290154,\n",
       "       0.48535436, 0.49801661, 0.49781221, 0.50363247, 0.49781221,\n",
       "       0.4860388 , 0.4831527 , 0.48290154, 0.49053615, 0.49781221,\n",
       "       0.49781221, 0.49781221, 0.49781221, 0.49781221, 0.48535436,\n",
       "       0.47693383, 0.48290154, 0.50083709, 0.48124449, 0.48290154,\n",
       "       0.47926926, 0.48290154, 0.49053615, 0.47926926, 0.47926926,\n",
       "       0.48290154, 0.49781221, 0.48290154, 0.49781221, 0.47926926,\n",
       "       0.50363247, 0.49053615, 0.47926926, 0.48960365, 0.48509815,\n",
       "       0.47926926, 0.48290154, 0.48535436, 0.50083709, 0.50083709,\n",
       "       0.48509815, 0.50083709, 0.48316785, 0.48509815, 0.48290154,\n",
       "       0.4839806 , 0.50083709, 0.48535436, 0.49998201, 0.50083709,\n",
       "       0.50083709, 0.47693383, 0.48535436, 0.48290154, 0.48290154,\n",
       "       0.50126545, 0.50126545, 0.50169696, 0.50169696, 0.50169696,\n",
       "       0.49781221, 0.48535436, 0.49822736, 0.50083709, 0.50083709,\n",
       "       0.49822736, 0.50121812, 0.48535436, 0.50083709, 0.49623703,\n",
       "       0.50083709, 0.50083709, 0.47693383, 0.50083709, 0.47693383,\n",
       "       0.48101965, 0.48101965, 0.48101965, 0.47693383, 0.47693383,\n",
       "       0.47693383, 0.50083709, 0.50083709, 0.50121812, 0.50083709,\n",
       "       0.48535436, 0.49822736, 0.48960365, 0.49623703, 0.50083709,\n",
       "       0.50083709, 0.48124449, 0.48316785, 0.49822736, 0.50083709,\n",
       "       0.50083709, 0.50083709, 0.47693383, 0.49822736, 0.50083709,\n",
       "       0.48960365, 0.49228146, 0.4831527 , 0.49822736, 0.50083709,\n",
       "       0.47693383, 0.50083709, 0.48509815, 0.4831527 , 0.48509815,\n",
       "       0.50083709, 0.50083709, 0.48509815, 0.49967612, 0.48535436,\n",
       "       0.48535436, 0.48290154, 0.48290154, 0.49053615, 0.48535436,\n",
       "       0.48509815, 0.48535436, 0.50083709, 0.48124449, 0.48290154,\n",
       "       0.4860388 , 0.50083709, 0.48960365, 0.48290154, 0.50083709,\n",
       "       0.48509815, 0.47926926, 0.48535436, 0.47948561, 0.4839806 ,\n",
       "       0.4860388 , 0.48535436, 0.48535436, 0.50083709])"
      ]
     },
     "execution_count": 159,
     "metadata": {},
     "output_type": "execute_result"
    }
   ],
   "source": [
    "preds #contains 1d array which shows that the price will go up "
   ]
  },
  {
   "cell_type": "code",
   "execution_count": 160,
   "id": "fb97a0c8",
   "metadata": {},
   "outputs": [
    {
     "data": {
      "text/plain": [
       "0.0    7595\n",
       "1.0     144\n",
       "Name: Predictions, dtype: int64"
      ]
     },
     "execution_count": 160,
     "metadata": {},
     "output_type": "execute_result"
    }
   ],
   "source": [
    " predictions[\"Predictions\"].value_counts() # 674 days we predicted that price will go up and 7366 days we predicted that price will go down"
   ]
  },
  {
   "cell_type": "markdown",
   "id": "1dc9485e",
   "metadata": {},
   "source": [
    "# Improving the accuracy of model"
   ]
  },
  {
   "cell_type": "code",
   "execution_count": 161,
   "id": "524a7725",
   "metadata": {},
   "outputs": [
    {
     "data": {
      "text/plain": [
       "0.5625"
      ]
     },
     "execution_count": 161,
     "metadata": {},
     "output_type": "execute_result"
    }
   ],
   "source": [
    "precision_score(predictions['Target'],predictions[\"Predictions\"])"
   ]
  },
  {
   "cell_type": "code",
   "execution_count": 162,
   "id": "65ecd178",
   "metadata": {},
   "outputs": [],
   "source": [
    "# we will add more predictors so that i will give more columns to the algorithm to make a better function"
   ]
  },
  {
   "cell_type": "code",
   "execution_count": 163,
   "id": "8522f970",
   "metadata": {},
   "outputs": [],
   "source": [
    "weekly_mean = data.rolling(7).mean()  #the weekely rolling price will have a relation that is it is higher or lower than weekly price\n",
    "quarterly_mean = data.rolling(90).mean()\n",
    "annual_mean = data.rolling(365).mean()"
   ]
  },
  {
   "cell_type": "code",
   "execution_count": 164,
   "id": "0fa64e06",
   "metadata": {},
   "outputs": [],
   "source": [
    "weekly_trend = data.shift(1).rolling(7).mean()[\"Target\"] # weekly on an average what is the percentage chance that the price will go up"
   ]
  },
  {
   "cell_type": "code",
   "execution_count": 165,
   "id": "e6678c6d",
   "metadata": {},
   "outputs": [
    {
     "data": {
      "text/plain": [
       "Date\n",
       "1986-03-14         NaN\n",
       "1986-03-17         NaN\n",
       "1986-03-18         NaN\n",
       "1986-03-19         NaN\n",
       "1986-03-20         NaN\n",
       "                ...   \n",
       "2022-04-20    0.428571\n",
       "2022-04-21    0.571429\n",
       "2022-04-22    0.571429\n",
       "2022-04-25    0.571429\n",
       "2022-04-26    0.571429\n",
       "Name: Target, Length: 9104, dtype: float64"
      ]
     },
     "execution_count": 165,
     "metadata": {},
     "output_type": "execute_result"
    }
   ],
   "source": [
    "weekly_trend"
   ]
  },
  {
   "cell_type": "code",
   "execution_count": 166,
   "id": "e846dd93",
   "metadata": {},
   "outputs": [],
   "source": [
    "data[\"weekly_mean\"] = weekly_mean[\"Close\"] / data[\"Close\"]\n",
    "data[\"quarterly_mean\"] = quarterly_mean[\"Close\"] / data[\"Close\"]\n",
    "data[\"annual_mean\"] = annual_mean[\"Close\"] / data[\"Close\"]\n",
    "\n",
    "data[\"annual_weekly_mean\"] = data[\"annual_mean\"] / data[\"weekly_mean\"]\n",
    "data[\"annual_quarterly_mean\"] = data[\"annual_mean\"] / data[\"quarterly_mean\"]\n",
    "data[\"weekly_trend\"] = weekly_trend\n",
    "\n",
    "data[\"open_close_ratio\"] = data[\"Open\"] / data[\"Close\"]\n",
    "data[\"high_close_ratio\"] = data[\"High\"] / data[\"Close\"]\n",
    "data[\"low_close_ratio\"] = data[\"Low\"] / data[\"Close\"]\n",
    "\n",
    "\n"
   ]
  },
  {
   "cell_type": "code",
   "execution_count": 167,
   "id": "5dff3b85",
   "metadata": {},
   "outputs": [],
   "source": [
    "full_predictors = predictors + [\"weekly_mean\", \"quarterly_mean\", \"annual_mean\", \"annual_weekly_mean\", \"annual_quarterly_mean\", \"open_close_ratio\", \"high_close_ratio\", \"low_close_ratio\", \"weekly_trend\"]\n",
    "predictions = backtest(data.iloc[365:], model, full_predictors)"
   ]
  },
  {
   "cell_type": "code",
   "execution_count": 168,
   "id": "283b8ed3",
   "metadata": {},
   "outputs": [
    {
     "data": {
      "text/plain": [
       "0.5882352941176471"
      ]
     },
     "execution_count": 168,
     "metadata": {},
     "output_type": "execute_result"
    }
   ],
   "source": [
    "precision_score(predictions[\"Target\"], predictions[\"Predictions\"] )"
   ]
  },
  {
   "cell_type": "code",
   "execution_count": 169,
   "id": "73b2777a",
   "metadata": {},
   "outputs": [
    {
     "data": {
      "text/plain": [
       "0.0    7535\n",
       "1.0     204\n",
       "Name: Predictions, dtype: int64"
      ]
     },
     "execution_count": 169,
     "metadata": {},
     "output_type": "execute_result"
    }
   ],
   "source": [
    "predictions[\"Predictions\"].value_counts()"
   ]
  },
  {
   "cell_type": "markdown",
   "id": "d0b37ed5",
   "metadata": {},
   "source": [
    "## Conclusion/Further Improvement\n",
    "After performing back testing and including more predictors our model accuracy increased to 58 percent which can further be increased by taking the following measures.\n",
    "1. Run with a reduced step size! This will take longer, but increase accuracy\n",
    "2. Try a different machine learning algorithm\n",
    "3. Try discarding older data (only keeping data in a certain window)\n",
    "4. Tweak random forest parameters, or the prediction threshold"
   ]
  },
  {
   "cell_type": "code",
   "execution_count": null,
   "id": "3848e9d4",
   "metadata": {},
   "outputs": [],
   "source": []
  },
  {
   "cell_type": "code",
   "execution_count": null,
   "id": "18c2317b",
   "metadata": {},
   "outputs": [],
   "source": []
  }
 ],
 "metadata": {
  "kernelspec": {
   "display_name": "Python 3 (ipykernel)",
   "language": "python",
   "name": "python3"
  },
  "language_info": {
   "codemirror_mode": {
    "name": "ipython",
    "version": 3
   },
   "file_extension": ".py",
   "mimetype": "text/x-python",
   "name": "python",
   "nbconvert_exporter": "python",
   "pygments_lexer": "ipython3",
   "version": "3.9.7"
  }
 },
 "nbformat": 4,
 "nbformat_minor": 5
}
