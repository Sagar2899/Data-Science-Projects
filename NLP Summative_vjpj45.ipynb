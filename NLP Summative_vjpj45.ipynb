{
 "cells": [
  {
   "cell_type": "markdown",
   "id": "07e35c80",
   "metadata": {},
   "source": [
    "## Importing and cleaning the training datasets"
   ]
  },
  {
   "cell_type": "code",
   "execution_count": 1,
   "id": "2f7b99fd",
   "metadata": {},
   "outputs": [],
   "source": [
    "# Importing required libraries\n",
    "import pandas as pd\n",
    "import numpy as np\n",
    "import seaborn as sns\n",
    "import matplotlib.pyplot as plt\n",
    "import nltk\n",
    "from nltk.corpus import stopwords\n",
    "from nltk.tokenize import word_tokenize\n",
    "\n",
    "import re\n",
    "import string\n",
    "import os\n",
    "\n",
    "import warnings\n",
    "warnings.filterwarnings(\"ignore\")"
   ]
  },
  {
   "cell_type": "code",
   "execution_count": 2,
   "id": "282e6678",
   "metadata": {},
   "outputs": [],
   "source": [
    "# Globally declaring the stop words\n",
    "sw_nltk = stopwords.words('english')\n",
    "# Defining utility functions\n",
    "def remove_URL(text):\n",
    "    url = re.compile(r'https?://\\S+|www\\.\\S+|@\\S+')# removes https, www(weblinks) and @twitter accounts.\n",
    "    return url.sub('', text)\n",
    "\n",
    "def remove_punct(text):\n",
    "    table = str.maketrans('', '', string.punctuation)#The string maketrans() method returns a mapping table for translation usable for translate() method.\n",
    "    return text.translate(table)\n",
    "\n",
    "def remove_stopwords(text):\n",
    "    word_tokens = word_tokenize(text)\n",
    "    filtered_sentence = [w for w in word_tokens if w.lower() not in sw_nltk]\n",
    "    return ' '.join(map(str,filtered_sentence))"
   ]
  },
  {
   "cell_type": "markdown",
   "id": "7b6d6e69",
   "metadata": {},
   "source": [
    "#### s140 training dataset"
   ]
  },
  {
   "cell_type": "code",
   "execution_count": 3,
   "id": "2c2ed0e8",
   "metadata": {},
   "outputs": [],
   "source": [
    "senti_train = pd.read_csv(\"s140_train.csv\", encoding='latin-1', header=None)"
   ]
  },
  {
   "cell_type": "code",
   "execution_count": 4,
   "id": "823c253a",
   "metadata": {},
   "outputs": [
    {
     "data": {
      "text/html": [
       "<div>\n",
       "<style scoped>\n",
       "    .dataframe tbody tr th:only-of-type {\n",
       "        vertical-align: middle;\n",
       "    }\n",
       "\n",
       "    .dataframe tbody tr th {\n",
       "        vertical-align: top;\n",
       "    }\n",
       "\n",
       "    .dataframe thead th {\n",
       "        text-align: right;\n",
       "    }\n",
       "</style>\n",
       "<table border=\"1\" class=\"dataframe\">\n",
       "  <thead>\n",
       "    <tr style=\"text-align: right;\">\n",
       "      <th></th>\n",
       "      <th>0</th>\n",
       "      <th>1</th>\n",
       "      <th>2</th>\n",
       "      <th>3</th>\n",
       "      <th>4</th>\n",
       "      <th>5</th>\n",
       "    </tr>\n",
       "  </thead>\n",
       "  <tbody>\n",
       "    <tr>\n",
       "      <th>0</th>\n",
       "      <td>0</td>\n",
       "      <td>1467810369</td>\n",
       "      <td>Mon Apr 06 22:19:45 PDT 2009</td>\n",
       "      <td>NO_QUERY</td>\n",
       "      <td>_TheSpecialOne_</td>\n",
       "      <td>@switchfoot http://twitpic.com/2y1zl - Awww, t...</td>\n",
       "    </tr>\n",
       "    <tr>\n",
       "      <th>1</th>\n",
       "      <td>0</td>\n",
       "      <td>1467810672</td>\n",
       "      <td>Mon Apr 06 22:19:49 PDT 2009</td>\n",
       "      <td>NO_QUERY</td>\n",
       "      <td>scotthamilton</td>\n",
       "      <td>is upset that he can't update his Facebook by ...</td>\n",
       "    </tr>\n",
       "    <tr>\n",
       "      <th>2</th>\n",
       "      <td>0</td>\n",
       "      <td>1467810917</td>\n",
       "      <td>Mon Apr 06 22:19:53 PDT 2009</td>\n",
       "      <td>NO_QUERY</td>\n",
       "      <td>mattycus</td>\n",
       "      <td>@Kenichan I dived many times for the ball. Man...</td>\n",
       "    </tr>\n",
       "    <tr>\n",
       "      <th>3</th>\n",
       "      <td>0</td>\n",
       "      <td>1467811184</td>\n",
       "      <td>Mon Apr 06 22:19:57 PDT 2009</td>\n",
       "      <td>NO_QUERY</td>\n",
       "      <td>ElleCTF</td>\n",
       "      <td>my whole body feels itchy and like its on fire</td>\n",
       "    </tr>\n",
       "    <tr>\n",
       "      <th>4</th>\n",
       "      <td>0</td>\n",
       "      <td>1467811193</td>\n",
       "      <td>Mon Apr 06 22:19:57 PDT 2009</td>\n",
       "      <td>NO_QUERY</td>\n",
       "      <td>Karoli</td>\n",
       "      <td>@nationwideclass no, it's not behaving at all....</td>\n",
       "    </tr>\n",
       "    <tr>\n",
       "      <th>5</th>\n",
       "      <td>0</td>\n",
       "      <td>1467811372</td>\n",
       "      <td>Mon Apr 06 22:20:00 PDT 2009</td>\n",
       "      <td>NO_QUERY</td>\n",
       "      <td>joy_wolf</td>\n",
       "      <td>@Kwesidei not the whole crew</td>\n",
       "    </tr>\n",
       "    <tr>\n",
       "      <th>6</th>\n",
       "      <td>0</td>\n",
       "      <td>1467811592</td>\n",
       "      <td>Mon Apr 06 22:20:03 PDT 2009</td>\n",
       "      <td>NO_QUERY</td>\n",
       "      <td>mybirch</td>\n",
       "      <td>Need a hug</td>\n",
       "    </tr>\n",
       "    <tr>\n",
       "      <th>7</th>\n",
       "      <td>0</td>\n",
       "      <td>1467811594</td>\n",
       "      <td>Mon Apr 06 22:20:03 PDT 2009</td>\n",
       "      <td>NO_QUERY</td>\n",
       "      <td>coZZ</td>\n",
       "      <td>@LOLTrish hey  long time no see! Yes.. Rains a...</td>\n",
       "    </tr>\n",
       "    <tr>\n",
       "      <th>8</th>\n",
       "      <td>0</td>\n",
       "      <td>1467811795</td>\n",
       "      <td>Mon Apr 06 22:20:05 PDT 2009</td>\n",
       "      <td>NO_QUERY</td>\n",
       "      <td>2Hood4Hollywood</td>\n",
       "      <td>@Tatiana_K nope they didn't have it</td>\n",
       "    </tr>\n",
       "    <tr>\n",
       "      <th>9</th>\n",
       "      <td>0</td>\n",
       "      <td>1467812025</td>\n",
       "      <td>Mon Apr 06 22:20:09 PDT 2009</td>\n",
       "      <td>NO_QUERY</td>\n",
       "      <td>mimismo</td>\n",
       "      <td>@twittera que me muera ?</td>\n",
       "    </tr>\n",
       "  </tbody>\n",
       "</table>\n",
       "</div>"
      ],
      "text/plain": [
       "   0           1                             2         3                4  \\\n",
       "0  0  1467810369  Mon Apr 06 22:19:45 PDT 2009  NO_QUERY  _TheSpecialOne_   \n",
       "1  0  1467810672  Mon Apr 06 22:19:49 PDT 2009  NO_QUERY    scotthamilton   \n",
       "2  0  1467810917  Mon Apr 06 22:19:53 PDT 2009  NO_QUERY         mattycus   \n",
       "3  0  1467811184  Mon Apr 06 22:19:57 PDT 2009  NO_QUERY          ElleCTF   \n",
       "4  0  1467811193  Mon Apr 06 22:19:57 PDT 2009  NO_QUERY           Karoli   \n",
       "5  0  1467811372  Mon Apr 06 22:20:00 PDT 2009  NO_QUERY         joy_wolf   \n",
       "6  0  1467811592  Mon Apr 06 22:20:03 PDT 2009  NO_QUERY          mybirch   \n",
       "7  0  1467811594  Mon Apr 06 22:20:03 PDT 2009  NO_QUERY             coZZ   \n",
       "8  0  1467811795  Mon Apr 06 22:20:05 PDT 2009  NO_QUERY  2Hood4Hollywood   \n",
       "9  0  1467812025  Mon Apr 06 22:20:09 PDT 2009  NO_QUERY          mimismo   \n",
       "\n",
       "                                                   5  \n",
       "0  @switchfoot http://twitpic.com/2y1zl - Awww, t...  \n",
       "1  is upset that he can't update his Facebook by ...  \n",
       "2  @Kenichan I dived many times for the ball. Man...  \n",
       "3    my whole body feels itchy and like its on fire   \n",
       "4  @nationwideclass no, it's not behaving at all....  \n",
       "5                      @Kwesidei not the whole crew   \n",
       "6                                        Need a hug   \n",
       "7  @LOLTrish hey  long time no see! Yes.. Rains a...  \n",
       "8               @Tatiana_K nope they didn't have it   \n",
       "9                          @twittera que me muera ?   "
      ]
     },
     "execution_count": 4,
     "metadata": {},
     "output_type": "execute_result"
    }
   ],
   "source": [
    "senti_train.head(10)"
   ]
  },
  {
   "cell_type": "code",
   "execution_count": 5,
   "id": "3ca934d5",
   "metadata": {},
   "outputs": [
    {
     "data": {
      "text/html": [
       "<div>\n",
       "<style scoped>\n",
       "    .dataframe tbody tr th:only-of-type {\n",
       "        vertical-align: middle;\n",
       "    }\n",
       "\n",
       "    .dataframe tbody tr th {\n",
       "        vertical-align: top;\n",
       "    }\n",
       "\n",
       "    .dataframe thead th {\n",
       "        text-align: right;\n",
       "    }\n",
       "</style>\n",
       "<table border=\"1\" class=\"dataframe\">\n",
       "  <thead>\n",
       "    <tr style=\"text-align: right;\">\n",
       "      <th></th>\n",
       "      <th>0</th>\n",
       "      <th>1</th>\n",
       "      <th>2</th>\n",
       "      <th>3</th>\n",
       "      <th>4</th>\n",
       "      <th>5</th>\n",
       "    </tr>\n",
       "  </thead>\n",
       "  <tbody>\n",
       "    <tr>\n",
       "      <th>0</th>\n",
       "      <td>False</td>\n",
       "      <td>False</td>\n",
       "      <td>False</td>\n",
       "      <td>False</td>\n",
       "      <td>False</td>\n",
       "      <td>False</td>\n",
       "    </tr>\n",
       "    <tr>\n",
       "      <th>1</th>\n",
       "      <td>False</td>\n",
       "      <td>False</td>\n",
       "      <td>False</td>\n",
       "      <td>False</td>\n",
       "      <td>False</td>\n",
       "      <td>False</td>\n",
       "    </tr>\n",
       "    <tr>\n",
       "      <th>2</th>\n",
       "      <td>False</td>\n",
       "      <td>False</td>\n",
       "      <td>False</td>\n",
       "      <td>False</td>\n",
       "      <td>False</td>\n",
       "      <td>False</td>\n",
       "    </tr>\n",
       "    <tr>\n",
       "      <th>3</th>\n",
       "      <td>False</td>\n",
       "      <td>False</td>\n",
       "      <td>False</td>\n",
       "      <td>False</td>\n",
       "      <td>False</td>\n",
       "      <td>False</td>\n",
       "    </tr>\n",
       "    <tr>\n",
       "      <th>4</th>\n",
       "      <td>False</td>\n",
       "      <td>False</td>\n",
       "      <td>False</td>\n",
       "      <td>False</td>\n",
       "      <td>False</td>\n",
       "      <td>False</td>\n",
       "    </tr>\n",
       "    <tr>\n",
       "      <th>...</th>\n",
       "      <td>...</td>\n",
       "      <td>...</td>\n",
       "      <td>...</td>\n",
       "      <td>...</td>\n",
       "      <td>...</td>\n",
       "      <td>...</td>\n",
       "    </tr>\n",
       "    <tr>\n",
       "      <th>1599995</th>\n",
       "      <td>False</td>\n",
       "      <td>False</td>\n",
       "      <td>False</td>\n",
       "      <td>False</td>\n",
       "      <td>False</td>\n",
       "      <td>False</td>\n",
       "    </tr>\n",
       "    <tr>\n",
       "      <th>1599996</th>\n",
       "      <td>False</td>\n",
       "      <td>False</td>\n",
       "      <td>False</td>\n",
       "      <td>False</td>\n",
       "      <td>False</td>\n",
       "      <td>False</td>\n",
       "    </tr>\n",
       "    <tr>\n",
       "      <th>1599997</th>\n",
       "      <td>False</td>\n",
       "      <td>False</td>\n",
       "      <td>False</td>\n",
       "      <td>False</td>\n",
       "      <td>False</td>\n",
       "      <td>False</td>\n",
       "    </tr>\n",
       "    <tr>\n",
       "      <th>1599998</th>\n",
       "      <td>False</td>\n",
       "      <td>False</td>\n",
       "      <td>False</td>\n",
       "      <td>False</td>\n",
       "      <td>False</td>\n",
       "      <td>False</td>\n",
       "    </tr>\n",
       "    <tr>\n",
       "      <th>1599999</th>\n",
       "      <td>False</td>\n",
       "      <td>False</td>\n",
       "      <td>False</td>\n",
       "      <td>False</td>\n",
       "      <td>False</td>\n",
       "      <td>False</td>\n",
       "    </tr>\n",
       "  </tbody>\n",
       "</table>\n",
       "<p>1600000 rows × 6 columns</p>\n",
       "</div>"
      ],
      "text/plain": [
       "             0      1      2      3      4      5\n",
       "0        False  False  False  False  False  False\n",
       "1        False  False  False  False  False  False\n",
       "2        False  False  False  False  False  False\n",
       "3        False  False  False  False  False  False\n",
       "4        False  False  False  False  False  False\n",
       "...        ...    ...    ...    ...    ...    ...\n",
       "1599995  False  False  False  False  False  False\n",
       "1599996  False  False  False  False  False  False\n",
       "1599997  False  False  False  False  False  False\n",
       "1599998  False  False  False  False  False  False\n",
       "1599999  False  False  False  False  False  False\n",
       "\n",
       "[1600000 rows x 6 columns]"
      ]
     },
     "execution_count": 5,
     "metadata": {},
     "output_type": "execute_result"
    }
   ],
   "source": [
    "senti_train.isnull()"
   ]
  },
  {
   "cell_type": "code",
   "execution_count": 6,
   "id": "2a4448d5",
   "metadata": {},
   "outputs": [
    {
     "name": "stdout",
     "output_type": "stream",
     "text": [
      "         0                                                  5\n",
      "0        0  @switchfoot http://twitpic.com/2y1zl - Awww, t...\n",
      "1        0  is upset that he can't update his Facebook by ...\n",
      "2        0  @Kenichan I dived many times for the ball. Man...\n",
      "3        0    my whole body feels itchy and like its on fire \n",
      "4        0  @nationwideclass no, it's not behaving at all....\n",
      "...     ..                                                ...\n",
      "1599995  4  Just woke up. Having no school is the best fee...\n",
      "1599996  4  TheWDB.com - Very cool to hear old Walt interv...\n",
      "1599997  4  Are you ready for your MoJo Makeover? Ask me f...\n",
      "1599998  4  Happy 38th Birthday to my boo of alll time!!! ...\n",
      "1599999  4  happy #charitytuesday @theNSPCC @SparksCharity...\n",
      "\n",
      "[1600000 rows x 2 columns]\n"
     ]
    }
   ],
   "source": [
    "# Extracting only the 2 columns required\n",
    "cols = [0,5]\n",
    "senti_train_modd = senti_train[senti_train.columns[cols]]\n",
    "print(senti_train_modd)"
   ]
  },
  {
   "cell_type": "code",
   "execution_count": 7,
   "id": "59986cfb",
   "metadata": {},
   "outputs": [],
   "source": [
    "# Cleaning the text\n",
    "senti_train_modd[5] = senti_train_modd[5].apply(lambda x: remove_URL(x)) # lamda function  Lambda Function, also referred to as ‘Anonymous function’ is same as a regular python function but can be defined without a name. While normal functions are defined using the def keyword, anonymous functions are defined using the lambda keyword\n",
    "senti_train_modd[5] = senti_train_modd[5].apply(lambda x: remove_punct(x)) # lambda is calling each row of the function defined in above cell\n",
    "senti_train_modd[5] = senti_train_modd[5].apply(lambda x: remove_stopwords(x))\n",
    "# Renaming the columns\n",
    "senti_train_modd.rename(columns={5:\"Text\", 0:\"Label\"}, inplace=True)"
   ]
  },
  {
   "cell_type": "code",
   "execution_count": 8,
   "id": "cf607d44",
   "metadata": {},
   "outputs": [
    {
     "data": {
      "text/plain": [
       "0    Awww thats bummer shoulda got David Carr Third...\n",
       "1    upset cant update Facebook texting might cry r...\n",
       "2    dived many times ball Managed save 50 rest go ...\n",
       "3                     whole body feels itchy like fire\n",
       "4                             behaving im mad cant see\n",
       "Name: Text, dtype: object"
      ]
     },
     "execution_count": 8,
     "metadata": {},
     "output_type": "execute_result"
    }
   ],
   "source": [
    "senti_train_modd['Text'].head(5)"
   ]
  },
  {
   "cell_type": "code",
   "execution_count": 9,
   "id": "544ce8f5",
   "metadata": {},
   "outputs": [],
   "source": [
    "#This is a type of encoding and is used to solve the UnicodeDecodeError, while attempting to read a file in Python or Pandas.\n",
    "\n",
    "#latin-1 is a single-byte encoding which uses the characters 0 through 127, so it can encode half as many characters as latin1. It's a strict subset of both latin1 and utf8, meaning the bytes 0 through 127 in both latin1 and utf8 encode the same things as they do in ASCII.\n",
    "\n",
    " "
   ]
  },
  {
   "cell_type": "code",
   "execution_count": 10,
   "id": "a32d2ea7",
   "metadata": {},
   "outputs": [
    {
     "data": {
      "image/png": "[encoded data removed]",
      "text/plain": [
       "<Figure size 432x288 with 1 Axes>"
      ]
     },
     "metadata": {
      "needs_background": "light"
     },
     "output_type": "display_data"
    }
   ],
   "source": [
    "ax = sns.countplot(senti_train_modd[\"Label\"])\n",
    "for rect in ax.patches:\n",
    "    ax.annotate(rect.get_height(), (rect.get_x() +\n",
    "                rect.get_width()/2, rect.get_height() + 0.75), ha='center')\n",
    "plt.suptitle(\"Class sample count\", fontsize=14,\n",
    "             fontname=\"Times New Roman\", fontweight=\"bold\");\n",
    "plt.xlabel('Target class', fontsize=12,\n",
    "           fontname=\"Times New Roman\", fontweight=\"bold\");\n",
    "plt.ylabel('Sample count', fontsize=12,\n",
    "           fontname=\"Times New Roman\", fontweight=\"bold\");\n",
    "plt.savefig(\"SENTIII.png\")"
   ]
  },
  {
   "cell_type": "markdown",
   "id": "3189be81",
   "metadata": {},
   "source": [
    "#### RTMR training dataset"
   ]
  },
  {
   "cell_type": "code",
   "execution_count": 11,
   "id": "57ef32c3",
   "metadata": {},
   "outputs": [],
   "source": [
    "rtmr_train = pd.read_csv(\"rtmr_train.tsv\", sep = '\\t',encoding='latin-1')"
   ]
  },
  {
   "cell_type": "code",
   "execution_count": 12,
   "id": "b5a8c717",
   "metadata": {},
   "outputs": [
    {
     "data": {
      "text/html": [
       "<div>\n",
       "<style scoped>\n",
       "    .dataframe tbody tr th:only-of-type {\n",
       "        vertical-align: middle;\n",
       "    }\n",
       "\n",
       "    .dataframe tbody tr th {\n",
       "        vertical-align: top;\n",
       "    }\n",
       "\n",
       "    .dataframe thead th {\n",
       "        text-align: right;\n",
       "    }\n",
       "</style>\n",
       "<table border=\"1\" class=\"dataframe\">\n",
       "  <thead>\n",
       "    <tr style=\"text-align: right;\">\n",
       "      <th></th>\n",
       "      <th>PhraseId</th>\n",
       "      <th>SentenceId</th>\n",
       "      <th>Phrase</th>\n",
       "      <th>Sentiment</th>\n",
       "    </tr>\n",
       "  </thead>\n",
       "  <tbody>\n",
       "    <tr>\n",
       "      <th>0</th>\n",
       "      <td>84400</td>\n",
       "      <td>4366</td>\n",
       "      <td>seen before from Murphy</td>\n",
       "      <td>2</td>\n",
       "    </tr>\n",
       "    <tr>\n",
       "      <th>1</th>\n",
       "      <td>45439</td>\n",
       "      <td>2208</td>\n",
       "      <td>exoticism</td>\n",
       "      <td>2</td>\n",
       "    </tr>\n",
       "    <tr>\n",
       "      <th>2</th>\n",
       "      <td>83575</td>\n",
       "      <td>4319</td>\n",
       "      <td>of the script</td>\n",
       "      <td>2</td>\n",
       "    </tr>\n",
       "    <tr>\n",
       "      <th>3</th>\n",
       "      <td>31453</td>\n",
       "      <td>1472</td>\n",
       "      <td>I had expected</td>\n",
       "      <td>2</td>\n",
       "    </tr>\n",
       "    <tr>\n",
       "      <th>4</th>\n",
       "      <td>79783</td>\n",
       "      <td>4111</td>\n",
       "      <td>A standard police-oriented drama that , were i...</td>\n",
       "      <td>1</td>\n",
       "    </tr>\n",
       "    <tr>\n",
       "      <th>5</th>\n",
       "      <td>71190</td>\n",
       "      <td>3632</td>\n",
       "      <td>the title performance by Kieran Culkin</td>\n",
       "      <td>2</td>\n",
       "    </tr>\n",
       "    <tr>\n",
       "      <th>6</th>\n",
       "      <td>135090</td>\n",
       "      <td>7292</td>\n",
       "      <td>lack their idol 's energy and passion for detail</td>\n",
       "      <td>1</td>\n",
       "    </tr>\n",
       "    <tr>\n",
       "      <th>7</th>\n",
       "      <td>45473</td>\n",
       "      <td>2211</td>\n",
       "      <td>Unfunny and lacking any sense of commitment to...</td>\n",
       "      <td>0</td>\n",
       "    </tr>\n",
       "    <tr>\n",
       "      <th>8</th>\n",
       "      <td>58553</td>\n",
       "      <td>2950</td>\n",
       "      <td>of the situation</td>\n",
       "      <td>2</td>\n",
       "    </tr>\n",
       "    <tr>\n",
       "      <th>9</th>\n",
       "      <td>54392</td>\n",
       "      <td>2703</td>\n",
       "      <td>is just such an achievement</td>\n",
       "      <td>3</td>\n",
       "    </tr>\n",
       "  </tbody>\n",
       "</table>\n",
       "</div>"
      ],
      "text/plain": [
       "   PhraseId  SentenceId                                             Phrase  \\\n",
       "0     84400        4366                            seen before from Murphy   \n",
       "1     45439        2208                                          exoticism   \n",
       "2     83575        4319                                      of the script   \n",
       "3     31453        1472                                     I had expected   \n",
       "4     79783        4111  A standard police-oriented drama that , were i...   \n",
       "5     71190        3632             the title performance by Kieran Culkin   \n",
       "6    135090        7292   lack their idol 's energy and passion for detail   \n",
       "7     45473        2211  Unfunny and lacking any sense of commitment to...   \n",
       "8     58553        2950                                   of the situation   \n",
       "9     54392        2703                        is just such an achievement   \n",
       "\n",
       "   Sentiment  \n",
       "0          2  \n",
       "1          2  \n",
       "2          2  \n",
       "3          2  \n",
       "4          1  \n",
       "5          2  \n",
       "6          1  \n",
       "7          0  \n",
       "8          2  \n",
       "9          3  "
      ]
     },
     "execution_count": 12,
     "metadata": {},
     "output_type": "execute_result"
    }
   ],
   "source": [
    "rtmr_train.head(10)"
   ]
  },
  {
   "cell_type": "code",
   "execution_count": 13,
   "id": "d6d0c27c",
   "metadata": {},
   "outputs": [
    {
     "data": {
      "text/html": [
       "<div>\n",
       "<style scoped>\n",
       "    .dataframe tbody tr th:only-of-type {\n",
       "        vertical-align: middle;\n",
       "    }\n",
       "\n",
       "    .dataframe tbody tr th {\n",
       "        vertical-align: top;\n",
       "    }\n",
       "\n",
       "    .dataframe thead th {\n",
       "        text-align: right;\n",
       "    }\n",
       "</style>\n",
       "<table border=\"1\" class=\"dataframe\">\n",
       "  <thead>\n",
       "    <tr style=\"text-align: right;\">\n",
       "      <th></th>\n",
       "      <th>PhraseId</th>\n",
       "      <th>SentenceId</th>\n",
       "      <th>Phrase</th>\n",
       "      <th>Sentiment</th>\n",
       "    </tr>\n",
       "  </thead>\n",
       "  <tbody>\n",
       "    <tr>\n",
       "      <th>0</th>\n",
       "      <td>False</td>\n",
       "      <td>False</td>\n",
       "      <td>False</td>\n",
       "      <td>False</td>\n",
       "    </tr>\n",
       "    <tr>\n",
       "      <th>1</th>\n",
       "      <td>False</td>\n",
       "      <td>False</td>\n",
       "      <td>False</td>\n",
       "      <td>False</td>\n",
       "    </tr>\n",
       "    <tr>\n",
       "      <th>2</th>\n",
       "      <td>False</td>\n",
       "      <td>False</td>\n",
       "      <td>False</td>\n",
       "      <td>False</td>\n",
       "    </tr>\n",
       "    <tr>\n",
       "      <th>3</th>\n",
       "      <td>False</td>\n",
       "      <td>False</td>\n",
       "      <td>False</td>\n",
       "      <td>False</td>\n",
       "    </tr>\n",
       "    <tr>\n",
       "      <th>4</th>\n",
       "      <td>False</td>\n",
       "      <td>False</td>\n",
       "      <td>False</td>\n",
       "      <td>False</td>\n",
       "    </tr>\n",
       "    <tr>\n",
       "      <th>...</th>\n",
       "      <td>...</td>\n",
       "      <td>...</td>\n",
       "      <td>...</td>\n",
       "      <td>...</td>\n",
       "    </tr>\n",
       "    <tr>\n",
       "      <th>148251</th>\n",
       "      <td>False</td>\n",
       "      <td>False</td>\n",
       "      <td>False</td>\n",
       "      <td>False</td>\n",
       "    </tr>\n",
       "    <tr>\n",
       "      <th>148252</th>\n",
       "      <td>False</td>\n",
       "      <td>False</td>\n",
       "      <td>False</td>\n",
       "      <td>False</td>\n",
       "    </tr>\n",
       "    <tr>\n",
       "      <th>148253</th>\n",
       "      <td>False</td>\n",
       "      <td>False</td>\n",
       "      <td>False</td>\n",
       "      <td>False</td>\n",
       "    </tr>\n",
       "    <tr>\n",
       "      <th>148254</th>\n",
       "      <td>False</td>\n",
       "      <td>False</td>\n",
       "      <td>False</td>\n",
       "      <td>False</td>\n",
       "    </tr>\n",
       "    <tr>\n",
       "      <th>148255</th>\n",
       "      <td>False</td>\n",
       "      <td>False</td>\n",
       "      <td>False</td>\n",
       "      <td>False</td>\n",
       "    </tr>\n",
       "  </tbody>\n",
       "</table>\n",
       "<p>148256 rows × 4 columns</p>\n",
       "</div>"
      ],
      "text/plain": [
       "        PhraseId  SentenceId  Phrase  Sentiment\n",
       "0          False       False   False      False\n",
       "1          False       False   False      False\n",
       "2          False       False   False      False\n",
       "3          False       False   False      False\n",
       "4          False       False   False      False\n",
       "...          ...         ...     ...        ...\n",
       "148251     False       False   False      False\n",
       "148252     False       False   False      False\n",
       "148253     False       False   False      False\n",
       "148254     False       False   False      False\n",
       "148255     False       False   False      False\n",
       "\n",
       "[148256 rows x 4 columns]"
      ]
     },
     "execution_count": 13,
     "metadata": {},
     "output_type": "execute_result"
    }
   ],
   "source": [
    "rtmr_train.isnull()"
   ]
  },
  {
   "cell_type": "code",
   "execution_count": 14,
   "id": "ab2d2ab5",
   "metadata": {},
   "outputs": [
    {
     "name": "stdout",
     "output_type": "stream",
     "text": [
      "                                                   Phrase  Sentiment\n",
      "0                                 seen before from Murphy          2\n",
      "1                                               exoticism          2\n",
      "2                                           of the script          2\n",
      "3                                          I had expected          2\n",
      "4       A standard police-oriented drama that , were i...          1\n",
      "...                                                   ...        ...\n",
      "148251                joy rising above the stale material          2\n",
      "148252  Directors Harry Gantz and Joe Gantz have chose...          2\n",
      "148253   have enough vices to merit its 103-minute length          2\n",
      "148254                             by its lack of purpose          1\n",
      "148255  an eventual cult classic would be an understat...          3\n",
      "\n",
      "[148256 rows x 2 columns]\n"
     ]
    }
   ],
   "source": [
    "# Extracting only the 2 columns required\n",
    "cols = [2,3]\n",
    "rtmr_train_new = rtmr_train[rtmr_train.columns[cols]]\n",
    "print(rtmr_train_new)"
   ]
  },
  {
   "cell_type": "code",
   "execution_count": 15,
   "id": "9d4e9370",
   "metadata": {},
   "outputs": [],
   "source": [
    "# Cleaning the text\n",
    "rtmr_train_new['Phrase'] = rtmr_train['Phrase'].apply(lambda x: remove_punct(x))\n",
    "rtmr_train_new['Phrase'] = rtmr_train['Phrase'].apply(lambda x: remove_stopwords(x))\n",
    "\n",
    "# Renaming the columns\n",
    "rtmr_train_new.rename(columns={\"Phrase\":\"Text\", \"Sentiment\":\"Label\" }, inplace=True)\n",
    "\n",
    "# Creating a copy of the RTMR train dataset for CNN\n",
    "rtmr_train_new_cnn = rtmr_train_new.copy()"
   ]
  },
  {
   "cell_type": "code",
   "execution_count": 16,
   "id": "887f25a6",
   "metadata": {},
   "outputs": [
    {
     "data": {
      "image/png": "[encoded data removed]",
      "text/plain": [
       "<Figure size 432x288 with 1 Axes>"
      ]
     },
     "metadata": {
      "needs_background": "light"
     },
     "output_type": "display_data"
    }
   ],
   "source": [
    "# Plotting the sample count in each class for RTMR (5 classes)\n",
    "ax = sns.countplot(rtmr_train_new[\"Label\"])\n",
    "for rect in ax.patches:\n",
    "    ax.annotate(rect.get_height(), (rect.get_x() +\n",
    "                rect.get_width()/2, rect.get_height() + 0.75), ha='center')\n",
    "plt.suptitle(\"Class sample count\", fontsize=14,\n",
    "             fontname=\"Times New Roman\", fontweight=\"bold\");\n",
    "plt.xlabel('Target class', fontsize=12,\n",
    "           fontname=\"Times New Roman\", fontweight=\"bold\");\n",
    "plt.ylabel('Sample count', fontsize=12,\n",
    "           fontname=\"Times New Roman\", fontweight=\"bold\");\n",
    "plt.savefig(\"senti.png\")"
   ]
  },
  {
   "cell_type": "code",
   "execution_count": 17,
   "id": "4f3785c2",
   "metadata": {},
   "outputs": [
    {
     "data": {
      "image/png": "[encoded data removed]",
      "text/plain": [
       "<Figure size 432x288 with 1 Axes>"
      ]
     },
     "metadata": {
      "needs_background": "light"
     },
     "output_type": "display_data"
    }
   ],
   "source": [
    "# Combining the classes '0' and '1' into '1' and '3' and '4' into '3'\n",
    "rtmr_train_new[\"Label\"] = rtmr_train_new[\"Label\"].replace([0], 1)\n",
    "rtmr_train_new[\"Label\"] = rtmr_train_new[\"Label\"].replace([4], 3)\n",
    "\n",
    "# Plotting the sample count in each class for RTMR (3 classes)\n",
    "ax = sns.countplot(rtmr_train_new[\"Label\"])\n",
    "for rect in ax.patches:\n",
    "    ax.annotate(rect.get_height(), (rect.get_x() +\n",
    "                rect.get_width()/2, rect.get_height() + 0.75), ha='center')\n",
    "plt.suptitle(\"Class sample count\", fontsize=14,\n",
    "             fontname=\"Times New Roman\", fontweight=\"bold\");\n",
    "plt.xlabel('Target class', fontsize=12,\n",
    "           fontname=\"Times New Roman\", fontweight=\"bold\");\n",
    "plt.ylabel('Sample count', fontsize=12,\n",
    "           fontname=\"Times New Roman\", fontweight=\"bold\");\n",
    "plt.savefig(\"rtmr balanced.png\")"
   ]
  },
  {
   "cell_type": "markdown",
   "id": "ca0f6f00",
   "metadata": {},
   "source": [
    "#### Combining s140 and RTMR training datasets"
   ]
  },
  {
   "cell_type": "code",
   "execution_count": 18,
   "id": "a1767392",
   "metadata": {},
   "outputs": [],
   "source": [
    "frames = [senti_train_modd,rtmr_train_new]"
   ]
  },
  {
   "cell_type": "code",
   "execution_count": 19,
   "id": "bc75129e",
   "metadata": {},
   "outputs": [],
   "source": [
    "combined_train = pd.concat(frames)"
   ]
  },
  {
   "cell_type": "code",
   "execution_count": 20,
   "id": "f326dbfc",
   "metadata": {},
   "outputs": [
    {
     "data": {
      "image/png": "[encoded data removed]",
      "text/plain": [
       "<Figure size 432x288 with 1 Axes>"
      ]
     },
     "metadata": {
      "needs_background": "light"
     },
     "output_type": "display_data"
    }
   ],
   "source": [
    "# Plotting the sample count in each class for combined training data\n",
    "ax = sns.countplot(combined_train[\"Label\"])\n",
    "for rect in ax.patches:\n",
    "    ax.annotate(rect.get_height(), (rect.get_x() +\n",
    "                rect.get_width()/2, rect.get_height() + 0.75), ha='center')\n",
    "plt.suptitle(\"Class sample count\", fontsize=14,\n",
    "             fontname=\"Times New Roman\", fontweight=\"bold\");\n",
    "plt.xlabel('Target class', fontsize=12,\n",
    "           fontname=\"Times New Roman\", fontweight=\"bold\");\n",
    "plt.ylabel('Sample count', fontsize=12,\n",
    "           fontname=\"Times New Roman\", fontweight=\"bold\");"
   ]
  },
  {
   "cell_type": "markdown",
   "id": "12491071",
   "metadata": {},
   "source": [
    "## Test Data"
   ]
  },
  {
   "cell_type": "markdown",
   "id": "e6bc0941",
   "metadata": {},
   "source": [
    "#### s140 test dataset"
   ]
  },
  {
   "cell_type": "code",
   "execution_count": 21,
   "id": "c3b75b38",
   "metadata": {},
   "outputs": [],
   "source": [
    "senti_test = pd.read_csv(\"s140_test.csv\", encoding='latin-1', header=None)"
   ]
  },
  {
   "cell_type": "code",
   "execution_count": 22,
   "id": "101c486d",
   "metadata": {},
   "outputs": [
    {
     "data": {
      "text/html": [
       "<div>\n",
       "<style scoped>\n",
       "    .dataframe tbody tr th:only-of-type {\n",
       "        vertical-align: middle;\n",
       "    }\n",
       "\n",
       "    .dataframe tbody tr th {\n",
       "        vertical-align: top;\n",
       "    }\n",
       "\n",
       "    .dataframe thead th {\n",
       "        text-align: right;\n",
       "    }\n",
       "</style>\n",
       "<table border=\"1\" class=\"dataframe\">\n",
       "  <thead>\n",
       "    <tr style=\"text-align: right;\">\n",
       "      <th></th>\n",
       "      <th>0</th>\n",
       "      <th>1</th>\n",
       "      <th>2</th>\n",
       "      <th>3</th>\n",
       "      <th>4</th>\n",
       "      <th>5</th>\n",
       "    </tr>\n",
       "  </thead>\n",
       "  <tbody>\n",
       "    <tr>\n",
       "      <th>0</th>\n",
       "      <td>4</td>\n",
       "      <td>3</td>\n",
       "      <td>Mon May 11 03:17:40 UTC 2009</td>\n",
       "      <td>kindle2</td>\n",
       "      <td>tpryan</td>\n",
       "      <td>@stellargirl I loooooooovvvvvveee my Kindle2. ...</td>\n",
       "    </tr>\n",
       "    <tr>\n",
       "      <th>1</th>\n",
       "      <td>4</td>\n",
       "      <td>4</td>\n",
       "      <td>Mon May 11 03:18:03 UTC 2009</td>\n",
       "      <td>kindle2</td>\n",
       "      <td>vcu451</td>\n",
       "      <td>Reading my kindle2...  Love it... Lee childs i...</td>\n",
       "    </tr>\n",
       "    <tr>\n",
       "      <th>2</th>\n",
       "      <td>4</td>\n",
       "      <td>5</td>\n",
       "      <td>Mon May 11 03:18:54 UTC 2009</td>\n",
       "      <td>kindle2</td>\n",
       "      <td>chadfu</td>\n",
       "      <td>Ok, first assesment of the #kindle2 ...it fuck...</td>\n",
       "    </tr>\n",
       "    <tr>\n",
       "      <th>3</th>\n",
       "      <td>4</td>\n",
       "      <td>6</td>\n",
       "      <td>Mon May 11 03:19:04 UTC 2009</td>\n",
       "      <td>kindle2</td>\n",
       "      <td>SIX15</td>\n",
       "      <td>@kenburbary You'll love your Kindle2. I've had...</td>\n",
       "    </tr>\n",
       "    <tr>\n",
       "      <th>4</th>\n",
       "      <td>4</td>\n",
       "      <td>7</td>\n",
       "      <td>Mon May 11 03:21:41 UTC 2009</td>\n",
       "      <td>kindle2</td>\n",
       "      <td>yamarama</td>\n",
       "      <td>@mikefish  Fair enough. But i have the Kindle2...</td>\n",
       "    </tr>\n",
       "    <tr>\n",
       "      <th>...</th>\n",
       "      <td>...</td>\n",
       "      <td>...</td>\n",
       "      <td>...</td>\n",
       "      <td>...</td>\n",
       "      <td>...</td>\n",
       "      <td>...</td>\n",
       "    </tr>\n",
       "    <tr>\n",
       "      <th>493</th>\n",
       "      <td>2</td>\n",
       "      <td>14072</td>\n",
       "      <td>Sun Jun 14 04:31:43 UTC 2009</td>\n",
       "      <td>latex</td>\n",
       "      <td>proggit</td>\n",
       "      <td>Ask Programming: LaTeX or InDesign?: submitted...</td>\n",
       "    </tr>\n",
       "    <tr>\n",
       "      <th>494</th>\n",
       "      <td>0</td>\n",
       "      <td>14073</td>\n",
       "      <td>Sun Jun 14 04:32:17 UTC 2009</td>\n",
       "      <td>latex</td>\n",
       "      <td>sam33r</td>\n",
       "      <td>On that note, I hate Word. I hate Pages. I hat...</td>\n",
       "    </tr>\n",
       "    <tr>\n",
       "      <th>495</th>\n",
       "      <td>4</td>\n",
       "      <td>14074</td>\n",
       "      <td>Sun Jun 14 04:36:34 UTC 2009</td>\n",
       "      <td>latex</td>\n",
       "      <td>iamtheonlyjosie</td>\n",
       "      <td>Ahhh... back in a *real* text editing environm...</td>\n",
       "    </tr>\n",
       "    <tr>\n",
       "      <th>496</th>\n",
       "      <td>0</td>\n",
       "      <td>14075</td>\n",
       "      <td>Sun Jun 14 21:36:07 UTC 2009</td>\n",
       "      <td>iran</td>\n",
       "      <td>plutopup7</td>\n",
       "      <td>Trouble in Iran, I see. Hmm. Iran. Iran so far...</td>\n",
       "    </tr>\n",
       "    <tr>\n",
       "      <th>497</th>\n",
       "      <td>0</td>\n",
       "      <td>14076</td>\n",
       "      <td>Sun Jun 14 21:36:17 UTC 2009</td>\n",
       "      <td>iran</td>\n",
       "      <td>captain_pete</td>\n",
       "      <td>Reading the tweets coming out of Iran... The w...</td>\n",
       "    </tr>\n",
       "  </tbody>\n",
       "</table>\n",
       "<p>498 rows × 6 columns</p>\n",
       "</div>"
      ],
      "text/plain": [
       "     0      1                             2        3                4  \\\n",
       "0    4      3  Mon May 11 03:17:40 UTC 2009  kindle2           tpryan   \n",
       "1    4      4  Mon May 11 03:18:03 UTC 2009  kindle2           vcu451   \n",
       "2    4      5  Mon May 11 03:18:54 UTC 2009  kindle2           chadfu   \n",
       "3    4      6  Mon May 11 03:19:04 UTC 2009  kindle2            SIX15   \n",
       "4    4      7  Mon May 11 03:21:41 UTC 2009  kindle2         yamarama   \n",
       "..  ..    ...                           ...      ...              ...   \n",
       "493  2  14072  Sun Jun 14 04:31:43 UTC 2009    latex          proggit   \n",
       "494  0  14073  Sun Jun 14 04:32:17 UTC 2009    latex           sam33r   \n",
       "495  4  14074  Sun Jun 14 04:36:34 UTC 2009    latex  iamtheonlyjosie   \n",
       "496  0  14075  Sun Jun 14 21:36:07 UTC 2009     iran        plutopup7   \n",
       "497  0  14076  Sun Jun 14 21:36:17 UTC 2009     iran     captain_pete   \n",
       "\n",
       "                                                     5  \n",
       "0    @stellargirl I loooooooovvvvvveee my Kindle2. ...  \n",
       "1    Reading my kindle2...  Love it... Lee childs i...  \n",
       "2    Ok, first assesment of the #kindle2 ...it fuck...  \n",
       "3    @kenburbary You'll love your Kindle2. I've had...  \n",
       "4    @mikefish  Fair enough. But i have the Kindle2...  \n",
       "..                                                 ...  \n",
       "493  Ask Programming: LaTeX or InDesign?: submitted...  \n",
       "494  On that note, I hate Word. I hate Pages. I hat...  \n",
       "495  Ahhh... back in a *real* text editing environm...  \n",
       "496  Trouble in Iran, I see. Hmm. Iran. Iran so far...  \n",
       "497  Reading the tweets coming out of Iran... The w...  \n",
       "\n",
       "[498 rows x 6 columns]"
      ]
     },
     "execution_count": 22,
     "metadata": {},
     "output_type": "execute_result"
    }
   ],
   "source": [
    "senti_test"
   ]
  },
  {
   "cell_type": "code",
   "execution_count": 23,
   "id": "cb595558",
   "metadata": {},
   "outputs": [
    {
     "name": "stdout",
     "output_type": "stream",
     "text": [
      "     0                                                  5\n",
      "0    4  @stellargirl I loooooooovvvvvveee my Kindle2. ...\n",
      "1    4  Reading my kindle2...  Love it... Lee childs i...\n",
      "2    4  Ok, first assesment of the #kindle2 ...it fuck...\n",
      "3    4  @kenburbary You'll love your Kindle2. I've had...\n",
      "4    4  @mikefish  Fair enough. But i have the Kindle2...\n",
      "..  ..                                                ...\n",
      "493  2  Ask Programming: LaTeX or InDesign?: submitted...\n",
      "494  0  On that note, I hate Word. I hate Pages. I hat...\n",
      "495  4  Ahhh... back in a *real* text editing environm...\n",
      "496  0  Trouble in Iran, I see. Hmm. Iran. Iran so far...\n",
      "497  0  Reading the tweets coming out of Iran... The w...\n",
      "\n",
      "[498 rows x 2 columns]\n"
     ]
    }
   ],
   "source": [
    "# Extracting only the 2 columns required\n",
    "cols = [0,5]\n",
    "senti_test_modd = senti_test[senti_test.columns[cols]]\n",
    "print(senti_test_modd)"
   ]
  },
  {
   "cell_type": "code",
   "execution_count": 24,
   "id": "e82425a0",
   "metadata": {},
   "outputs": [],
   "source": [
    "# Cleaning the text\n",
    "senti_test_modd[5] = senti_test_modd[5].apply(lambda x: remove_URL(x)) # lamda function  Lambda Function, also referred to as ‘Anonymous function’ is same as a regular python function but can be defined without a name. While normal functions are defined using the def keyword, anonymous functions are defined using the lambda keyword\n",
    "senti_test_modd[5] = senti_test_modd[5].apply(lambda x: remove_punct(x))\n",
    "senti_test_modd[5] = senti_test_modd[5].apply(lambda x: remove_stopwords(x))\n",
    "# Renaming the columns\n",
    "senti_test_modd.rename(columns={5:\"Text\", 0:\"Label\"}, inplace=True)"
   ]
  },
  {
   "cell_type": "code",
   "execution_count": 25,
   "id": "885d002f",
   "metadata": {},
   "outputs": [],
   "source": [
    "# Combining class '2' and '0' into '0' because the current models cannot handle unknown class classification\n",
    "senti_test_modd[\"Label\"] = senti_test_modd[\"Label\"].replace([2], 0)"
   ]
  },
  {
   "cell_type": "code",
   "execution_count": 26,
   "id": "ae7b1218",
   "metadata": {},
   "outputs": [
    {
     "data": {
      "text/html": [
       "<div>\n",
       "<style scoped>\n",
       "    .dataframe tbody tr th:only-of-type {\n",
       "        vertical-align: middle;\n",
       "    }\n",
       "\n",
       "    .dataframe tbody tr th {\n",
       "        vertical-align: top;\n",
       "    }\n",
       "\n",
       "    .dataframe thead th {\n",
       "        text-align: right;\n",
       "    }\n",
       "</style>\n",
       "<table border=\"1\" class=\"dataframe\">\n",
       "  <thead>\n",
       "    <tr style=\"text-align: right;\">\n",
       "      <th></th>\n",
       "      <th>Label</th>\n",
       "      <th>Text</th>\n",
       "    </tr>\n",
       "  </thead>\n",
       "  <tbody>\n",
       "    <tr>\n",
       "      <th>0</th>\n",
       "      <td>4</td>\n",
       "      <td>loooooooovvvvvveee Kindle2 DX cool 2 fantastic...</td>\n",
       "    </tr>\n",
       "    <tr>\n",
       "      <th>1</th>\n",
       "      <td>4</td>\n",
       "      <td>Reading kindle2 Love Lee childs good read</td>\n",
       "    </tr>\n",
       "    <tr>\n",
       "      <th>2</th>\n",
       "      <td>4</td>\n",
       "      <td>Ok first assesment kindle2 fucking rocks</td>\n",
       "    </tr>\n",
       "    <tr>\n",
       "      <th>3</th>\n",
       "      <td>4</td>\n",
       "      <td>Youll love Kindle2 Ive mine months never looke...</td>\n",
       "    </tr>\n",
       "    <tr>\n",
       "      <th>4</th>\n",
       "      <td>4</td>\n",
       "      <td>Fair enough Kindle2 think perfect</td>\n",
       "    </tr>\n",
       "    <tr>\n",
       "      <th>...</th>\n",
       "      <td>...</td>\n",
       "      <td>...</td>\n",
       "    </tr>\n",
       "    <tr>\n",
       "      <th>493</th>\n",
       "      <td>0</td>\n",
       "      <td>Ask Programming LaTeX InDesign submitted calci...</td>\n",
       "    </tr>\n",
       "    <tr>\n",
       "      <th>494</th>\n",
       "      <td>0</td>\n",
       "      <td>note hate Word hate Pages hate LaTeX said hate...</td>\n",
       "    </tr>\n",
       "    <tr>\n",
       "      <th>495</th>\n",
       "      <td>4</td>\n",
       "      <td>Ahhh back real text editing environment lt3 LaTeX</td>\n",
       "    </tr>\n",
       "    <tr>\n",
       "      <th>496</th>\n",
       "      <td>0</td>\n",
       "      <td>Trouble Iran see Hmm Iran Iran far away flocko...</td>\n",
       "    </tr>\n",
       "    <tr>\n",
       "      <th>497</th>\n",
       "      <td>0</td>\n",
       "      <td>Reading tweets coming Iran whole thing terrify...</td>\n",
       "    </tr>\n",
       "  </tbody>\n",
       "</table>\n",
       "<p>498 rows × 2 columns</p>\n",
       "</div>"
      ],
      "text/plain": [
       "     Label                                               Text\n",
       "0        4  loooooooovvvvvveee Kindle2 DX cool 2 fantastic...\n",
       "1        4          Reading kindle2 Love Lee childs good read\n",
       "2        4           Ok first assesment kindle2 fucking rocks\n",
       "3        4  Youll love Kindle2 Ive mine months never looke...\n",
       "4        4                  Fair enough Kindle2 think perfect\n",
       "..     ...                                                ...\n",
       "493      0  Ask Programming LaTeX InDesign submitted calci...\n",
       "494      0  note hate Word hate Pages hate LaTeX said hate...\n",
       "495      4  Ahhh back real text editing environment lt3 LaTeX\n",
       "496      0  Trouble Iran see Hmm Iran Iran far away flocko...\n",
       "497      0  Reading tweets coming Iran whole thing terrify...\n",
       "\n",
       "[498 rows x 2 columns]"
      ]
     },
     "execution_count": 26,
     "metadata": {},
     "output_type": "execute_result"
    }
   ],
   "source": [
    "senti_test_modd"
   ]
  },
  {
   "cell_type": "code",
   "execution_count": 27,
   "id": "2a4c4d1d",
   "metadata": {},
   "outputs": [
    {
     "data": {
      "text/plain": [
       "array([4, 0], dtype=int64)"
      ]
     },
     "execution_count": 27,
     "metadata": {},
     "output_type": "execute_result"
    }
   ],
   "source": [
    "senti_test_modd['Label'].unique()"
   ]
  },
  {
   "cell_type": "markdown",
   "id": "c5237644",
   "metadata": {},
   "source": [
    "#### RTMT test dataset"
   ]
  },
  {
   "cell_type": "code",
   "execution_count": 28,
   "id": "80c0cde5",
   "metadata": {},
   "outputs": [],
   "source": [
    "rtmr_test = pd.read_csv(\"rtmr_test.tsv\", sep = '\\t',encoding='latin-1')"
   ]
  },
  {
   "cell_type": "code",
   "execution_count": 29,
   "id": "cf702020",
   "metadata": {},
   "outputs": [
    {
     "data": {
      "text/html": [
       "<div>\n",
       "<style scoped>\n",
       "    .dataframe tbody tr th:only-of-type {\n",
       "        vertical-align: middle;\n",
       "    }\n",
       "\n",
       "    .dataframe tbody tr th {\n",
       "        vertical-align: top;\n",
       "    }\n",
       "\n",
       "    .dataframe thead th {\n",
       "        text-align: right;\n",
       "    }\n",
       "</style>\n",
       "<table border=\"1\" class=\"dataframe\">\n",
       "  <thead>\n",
       "    <tr style=\"text-align: right;\">\n",
       "      <th></th>\n",
       "      <th>PhraseId</th>\n",
       "      <th>SentenceId</th>\n",
       "      <th>Phrase</th>\n",
       "      <th>Sentiment</th>\n",
       "    </tr>\n",
       "  </thead>\n",
       "  <tbody>\n",
       "    <tr>\n",
       "      <th>0</th>\n",
       "      <td>11584</td>\n",
       "      <td>499</td>\n",
       "      <td>Despite modest aspirations its occasional char...</td>\n",
       "      <td>3</td>\n",
       "    </tr>\n",
       "    <tr>\n",
       "      <th>1</th>\n",
       "      <td>47386</td>\n",
       "      <td>2310</td>\n",
       "      <td>its depiction</td>\n",
       "      <td>2</td>\n",
       "    </tr>\n",
       "    <tr>\n",
       "      <th>2</th>\n",
       "      <td>141304</td>\n",
       "      <td>7664</td>\n",
       "      <td>punched through by an inconsistent , meanderin...</td>\n",
       "      <td>1</td>\n",
       "    </tr>\n",
       "    <tr>\n",
       "      <th>3</th>\n",
       "      <td>79599</td>\n",
       "      <td>4097</td>\n",
       "      <td>Robert DeNiro in Showtime</td>\n",
       "      <td>2</td>\n",
       "    </tr>\n",
       "    <tr>\n",
       "      <th>4</th>\n",
       "      <td>141838</td>\n",
       "      <td>7694</td>\n",
       "      <td>a young artist 's</td>\n",
       "      <td>2</td>\n",
       "    </tr>\n",
       "    <tr>\n",
       "      <th>...</th>\n",
       "      <td>...</td>\n",
       "      <td>...</td>\n",
       "      <td>...</td>\n",
       "      <td>...</td>\n",
       "    </tr>\n",
       "    <tr>\n",
       "      <th>7798</th>\n",
       "      <td>112077</td>\n",
       "      <td>5950</td>\n",
       "      <td>cunning that even the most jaded cinema audien...</td>\n",
       "      <td>2</td>\n",
       "    </tr>\n",
       "    <tr>\n",
       "      <th>7799</th>\n",
       "      <td>10312</td>\n",
       "      <td>433</td>\n",
       "      <td>handguns , BMWs</td>\n",
       "      <td>2</td>\n",
       "    </tr>\n",
       "    <tr>\n",
       "      <th>7800</th>\n",
       "      <td>7416</td>\n",
       "      <td>301</td>\n",
       "      <td>particular value or merit</td>\n",
       "      <td>2</td>\n",
       "    </tr>\n",
       "    <tr>\n",
       "      <th>7801</th>\n",
       "      <td>145499</td>\n",
       "      <td>7909</td>\n",
       "      <td>of Tinseltown 's seasoned veterans</td>\n",
       "      <td>2</td>\n",
       "    </tr>\n",
       "    <tr>\n",
       "      <th>7802</th>\n",
       "      <td>123397</td>\n",
       "      <td>6625</td>\n",
       "      <td>strong message</td>\n",
       "      <td>3</td>\n",
       "    </tr>\n",
       "  </tbody>\n",
       "</table>\n",
       "<p>7803 rows × 4 columns</p>\n",
       "</div>"
      ],
      "text/plain": [
       "      PhraseId  SentenceId                                             Phrase  \\\n",
       "0        11584         499  Despite modest aspirations its occasional char...   \n",
       "1        47386        2310                                      its depiction   \n",
       "2       141304        7664  punched through by an inconsistent , meanderin...   \n",
       "3        79599        4097                          Robert DeNiro in Showtime   \n",
       "4       141838        7694                                  a young artist 's   \n",
       "...        ...         ...                                                ...   \n",
       "7798    112077        5950  cunning that even the most jaded cinema audien...   \n",
       "7799     10312         433                                    handguns , BMWs   \n",
       "7800      7416         301                          particular value or merit   \n",
       "7801    145499        7909                 of Tinseltown 's seasoned veterans   \n",
       "7802    123397        6625                                     strong message   \n",
       "\n",
       "      Sentiment  \n",
       "0             3  \n",
       "1             2  \n",
       "2             1  \n",
       "3             2  \n",
       "4             2  \n",
       "...         ...  \n",
       "7798          2  \n",
       "7799          2  \n",
       "7800          2  \n",
       "7801          2  \n",
       "7802          3  \n",
       "\n",
       "[7803 rows x 4 columns]"
      ]
     },
     "execution_count": 29,
     "metadata": {},
     "output_type": "execute_result"
    }
   ],
   "source": [
    "rtmr_test"
   ]
  },
  {
   "cell_type": "code",
   "execution_count": 30,
   "id": "6c6c023f",
   "metadata": {},
   "outputs": [
    {
     "name": "stdout",
     "output_type": "stream",
     "text": [
      "                                                 Phrase  Sentiment\n",
      "0     Despite modest aspirations its occasional char...          3\n",
      "1                                         its depiction          2\n",
      "2     punched through by an inconsistent , meanderin...          1\n",
      "3                             Robert DeNiro in Showtime          2\n",
      "4                                     a young artist 's          2\n",
      "...                                                 ...        ...\n",
      "7798  cunning that even the most jaded cinema audien...          2\n",
      "7799                                    handguns , BMWs          2\n",
      "7800                          particular value or merit          2\n",
      "7801                 of Tinseltown 's seasoned veterans          2\n",
      "7802                                     strong message          3\n",
      "\n",
      "[7803 rows x 2 columns]\n"
     ]
    }
   ],
   "source": [
    "# Extracting only the 2 columns required\n",
    "cols = [2,3]\n",
    "rtmr_test_new = rtmr_test[rtmr_test.columns[cols]]\n",
    "print(rtmr_test_new)"
   ]
  },
  {
   "cell_type": "code",
   "execution_count": 31,
   "id": "00806780",
   "metadata": {},
   "outputs": [],
   "source": [
    "# Cleaning the text\n",
    "rtmr_test_new['Phrase'] = rtmr_test['Phrase'].apply(lambda x: remove_punct(x))\n",
    "rtmr_test_new['Phrase'] = rtmr_test['Phrase'].apply(lambda x: remove_stopwords(x))\n",
    "\n",
    "\n",
    "# Renaming the columns\n",
    "rtmr_test_new.rename(columns={\"Phrase\":\"Text\", \"Sentiment\":\"Label\"}, inplace=True)\n",
    "\n",
    "# Creating a copy for CNN\n",
    "rtmr_test_new_cnn = rtmr_test_new.copy()"
   ]
  },
  {
   "cell_type": "code",
   "execution_count": 32,
   "id": "064365a5",
   "metadata": {},
   "outputs": [],
   "source": [
    "# Combining the classes '0' and '1' into '1' and '3' and '4' into '3'\n",
    "rtmr_test_new[\"Label\"] = rtmr_test_new[\"Label\"].replace([0], 1)\n",
    "rtmr_test_new[\"Label\"] = rtmr_test_new[\"Label\"].replace([4], 3)"
   ]
  },
  {
   "cell_type": "code",
   "execution_count": 33,
   "id": "8c05e95b",
   "metadata": {
    "scrolled": true
   },
   "outputs": [
    {
     "data": {
      "text/html": [
       "<div>\n",
       "<style scoped>\n",
       "    .dataframe tbody tr th:only-of-type {\n",
       "        vertical-align: middle;\n",
       "    }\n",
       "\n",
       "    .dataframe tbody tr th {\n",
       "        vertical-align: top;\n",
       "    }\n",
       "\n",
       "    .dataframe thead th {\n",
       "        text-align: right;\n",
       "    }\n",
       "</style>\n",
       "<table border=\"1\" class=\"dataframe\">\n",
       "  <thead>\n",
       "    <tr style=\"text-align: right;\">\n",
       "      <th></th>\n",
       "      <th>Text</th>\n",
       "      <th>Label</th>\n",
       "    </tr>\n",
       "  </thead>\n",
       "  <tbody>\n",
       "    <tr>\n",
       "      <th>0</th>\n",
       "      <td>Despite modest aspirations occasional charms d...</td>\n",
       "      <td>3</td>\n",
       "    </tr>\n",
       "    <tr>\n",
       "      <th>1</th>\n",
       "      <td>depiction</td>\n",
       "      <td>2</td>\n",
       "    </tr>\n",
       "    <tr>\n",
       "      <th>2</th>\n",
       "      <td>punched inconsistent , meandering , sometimes ...</td>\n",
       "      <td>1</td>\n",
       "    </tr>\n",
       "    <tr>\n",
       "      <th>3</th>\n",
       "      <td>Robert DeNiro Showtime</td>\n",
       "      <td>2</td>\n",
       "    </tr>\n",
       "    <tr>\n",
       "      <th>4</th>\n",
       "      <td>young artist 's</td>\n",
       "      <td>2</td>\n",
       "    </tr>\n",
       "    <tr>\n",
       "      <th>...</th>\n",
       "      <td>...</td>\n",
       "      <td>...</td>\n",
       "    </tr>\n",
       "    <tr>\n",
       "      <th>7798</th>\n",
       "      <td>cunning even jaded cinema audiences leave audi...</td>\n",
       "      <td>2</td>\n",
       "    </tr>\n",
       "    <tr>\n",
       "      <th>7799</th>\n",
       "      <td>handguns , BMWs</td>\n",
       "      <td>2</td>\n",
       "    </tr>\n",
       "    <tr>\n",
       "      <th>7800</th>\n",
       "      <td>particular value merit</td>\n",
       "      <td>2</td>\n",
       "    </tr>\n",
       "    <tr>\n",
       "      <th>7801</th>\n",
       "      <td>Tinseltown 's seasoned veterans</td>\n",
       "      <td>2</td>\n",
       "    </tr>\n",
       "    <tr>\n",
       "      <th>7802</th>\n",
       "      <td>strong message</td>\n",
       "      <td>3</td>\n",
       "    </tr>\n",
       "  </tbody>\n",
       "</table>\n",
       "<p>7803 rows × 2 columns</p>\n",
       "</div>"
      ],
      "text/plain": [
       "                                                   Text  Label\n",
       "0     Despite modest aspirations occasional charms d...      3\n",
       "1                                             depiction      2\n",
       "2     punched inconsistent , meandering , sometimes ...      1\n",
       "3                                Robert DeNiro Showtime      2\n",
       "4                                       young artist 's      2\n",
       "...                                                 ...    ...\n",
       "7798  cunning even jaded cinema audiences leave audi...      2\n",
       "7799                                    handguns , BMWs      2\n",
       "7800                             particular value merit      2\n",
       "7801                    Tinseltown 's seasoned veterans      2\n",
       "7802                                     strong message      3\n",
       "\n",
       "[7803 rows x 2 columns]"
      ]
     },
     "execution_count": 33,
     "metadata": {},
     "output_type": "execute_result"
    }
   ],
   "source": [
    "rtmr_test_new"
   ]
  },
  {
   "cell_type": "markdown",
   "id": "88f3bd91",
   "metadata": {},
   "source": [
    "# Naive Bayes Classifier"
   ]
  },
  {
   "cell_type": "code",
   "execution_count": 34,
   "id": "054aa60a",
   "metadata": {},
   "outputs": [],
   "source": [
    "from sklearn.metrics import confusion_matrix, accuracy_score, f1_score,precision_score,recall_score,classification_report\n",
    "from sklearn.feature_extraction.text import TfidfVectorizer\n",
    "from sklearn.naive_bayes import MultinomialNB\n",
    "from sklearn.pipeline import make_pipeline\n",
    "from sklearn.utils import resample, class_weight"
   ]
  },
  {
   "cell_type": "code",
   "execution_count": 35,
   "id": "6a31d3d0",
   "metadata": {},
   "outputs": [
    {
     "name": "stdout",
     "output_type": "stream",
     "text": [
      "{'alpha': 1.0, 'class_prior': None, 'fit_prior': True}\n"
     ]
    }
   ],
   "source": [
    "print(MultinomialNB().get_params())"
   ]
  },
  {
   "cell_type": "markdown",
   "id": "7bfad715",
   "metadata": {},
   "source": [
    "#### 1a) Naive Bayes trained and tested on s140"
   ]
  },
  {
   "cell_type": "code",
   "execution_count": 36,
   "id": "70b683c4",
   "metadata": {},
   "outputs": [],
   "source": [
    "model_senti_NB = make_pipeline(TfidfVectorizer(), MultinomialNB())\n",
    "model_senti_NB.fit(senti_train_modd[\"Text\"], senti_train_modd[\"Label\"]) # Train the model on the training data\n",
    "predicted_categories_senti = model_senti_NB.predict(senti_test_modd[\"Text\"])\n",
    "pred_senti_NB = model_senti_NB.predict(senti_train_modd[\"Text\"])"
   ]
  },
  {
   "cell_type": "code",
   "execution_count": 37,
   "id": "4b339030",
   "metadata": {},
   "outputs": [
    {
     "name": "stdout",
     "output_type": "stream",
     "text": [
      "Predicted: [4, 4, 4, 4, 0, 0, 4, 4, 4, 4, 4, 4, 4, 4, 4, 4, 4, 0, 0, 4]\n",
      "Ground truth: [0, 0, 0, 0, 0, 0, 4, 0, 4, 4, 4, 4, 4, 4, 4, 4, 4, 0, 4, 4]\n"
     ]
    }
   ],
   "source": [
    "print(\"Predicted:\",predicted_categories_senti.tolist()[100:120]) # Print the first 10 predictions\n",
    "print(\"Ground truth:\",senti_test_modd[\"Label\"].tolist()[100:120]) # Print the first 10 ground truth values"
   ]
  },
  {
   "cell_type": "code",
   "execution_count": 38,
   "id": "fece43cc",
   "metadata": {},
   "outputs": [
    {
     "data": {
      "text/plain": [
       "array([0, 0, 0, ..., 4, 4, 4], dtype=int64)"
      ]
     },
     "execution_count": 38,
     "metadata": {},
     "output_type": "execute_result"
    }
   ],
   "source": [
    "pred_senti_NB"
   ]
  },
  {
   "cell_type": "code",
   "execution_count": 39,
   "id": "53a23297",
   "metadata": {
    "scrolled": true
   },
   "outputs": [
    {
     "data": {
      "image/png": "[encoded data removed]",
      "text/plain": [
       "<Figure size 432x288 with 2 Axes>"
      ]
     },
     "metadata": {},
     "output_type": "display_data"
    },
    {
     "name": "stdout",
     "output_type": "stream",
     "text": [
      "Accuracy:\t0.660643\n",
      "F1-score:\t0.657849\n",
      "Precision:\t0.673887\n",
      "Recall:\t\t0.685996\n",
      "\n",
      "Classification performance:\n",
      "              precision    recall  f1-score   support\n",
      "\n",
      "           0       0.82      0.59      0.69       316\n",
      "           4       0.52      0.78      0.63       182\n",
      "\n",
      "    accuracy                           0.66       498\n",
      "   macro avg       0.67      0.69      0.66       498\n",
      "weighted avg       0.71      0.66      0.67       498\n",
      "\n"
     ]
    },
    {
     "data": {
      "text/plain": [
       "<Figure size 432x288 with 0 Axes>"
      ]
     },
     "metadata": {},
     "output_type": "display_data"
    }
   ],
   "source": [
    "sns.set() # use seaborn plotting style\n",
    "# Plot the confusion matrix\n",
    "mat = confusion_matrix(senti_test_modd['Label'], predicted_categories_senti)\n",
    "sns.heatmap(mat.T, square = True, annot=True, fmt = \"d\")\n",
    "plt.xlabel(\"True label\")\n",
    "plt.ylabel(\"Predicted label\")\n",
    "plt.show()\n",
    "# Compute and print classification performance metrics\n",
    "print(\"Accuracy:\\t%f\" % accuracy_score(senti_test_modd['Label'], predicted_categories_senti))\n",
    "print(\"F1-score:\\t%f\" % f1_score(senti_test_modd['Label'], predicted_categories_senti, average='macro'))\n",
    "print(\"Precision:\\t%f\" % precision_score(senti_test_modd['Label'], predicted_categories_senti, average='macro'))\n",
    "print(\"Recall:\\t\\t%f\" % recall_score(senti_test_modd['Label'], predicted_categories_senti, average='macro'))\n",
    "print(\"\\nClassification performance:\\n%s\" % classification_report(senti_test_modd['Label'], predicted_categories_senti))\n",
    "plt.savefig(\"con_sentii.png\")"
   ]
  },
  {
   "cell_type": "markdown",
   "id": "a1354017",
   "metadata": {},
   "source": [
    "#### 1b) Naive Bayes trained and tested on RTMR"
   ]
  },
  {
   "cell_type": "code",
   "execution_count": 40,
   "id": "f8ac9b2b",
   "metadata": {},
   "outputs": [
    {
     "name": "stdout",
     "output_type": "stream",
     "text": [
      "\u001b[1mThe class weights:\u001b[0m\n",
      "{0: 1.5141450660783953, 1: 0.6540753976132178, 2: 1.2335238665768082}\n"
     ]
    }
   ],
   "source": [
    "# Finding the class weights\n",
    "y_org = np.unique(rtmr_train_new['Label'])\n",
    "class_weights = class_weight.compute_class_weight(\n",
    "    'balanced', classes=y_org, y=rtmr_train_new['Label'])\n",
    "\n",
    "# Converting the class_weights into dictionary format\n",
    "class_weight_dict = dict(enumerate(class_weights))\n",
    "print(\"\\033[1mThe class weights:\\033[0m\")\n",
    "print(class_weight_dict)\n",
    "\n",
    "sample = class_weight.compute_sample_weight('balanced', rtmr_train_new['Label'])"
   ]
  },
  {
   "cell_type": "code",
   "execution_count": 41,
   "id": "14307af3",
   "metadata": {},
   "outputs": [
    {
     "name": "stdout",
     "output_type": "stream",
     "text": [
      "<bound method Pipeline.get_params of Pipeline(steps=[('tfidfvectorizer', TfidfVectorizer()),\n",
      "                ('multinomialnb', MultinomialNB())])>\n"
     ]
    }
   ],
   "source": [
    "model_rtmr_NB = make_pipeline(TfidfVectorizer(), MultinomialNB())\n",
    "print(model_rtmr_NB.get_params)"
   ]
  },
  {
   "cell_type": "code",
   "execution_count": 42,
   "id": "b9a493d9",
   "metadata": {},
   "outputs": [],
   "source": [
    "model_rtmr_NB.fit(rtmr_train_new[\"Text\"], rtmr_train_new[\"Label\"], multinomialnb__sample_weight=sample) # Train the model on the training data\n",
    "predicted_categories_rtmr = model_rtmr_NB.predict(rtmr_test_new[\"Text\"])\n",
    "pred = model_rtmr_NB.predict(rtmr_train_new[\"Text\"])"
   ]
  },
  {
   "cell_type": "code",
   "execution_count": 43,
   "id": "5c0b492a",
   "metadata": {},
   "outputs": [
    {
     "name": "stdout",
     "output_type": "stream",
     "text": [
      "Predicted: [3, 1, 2, 3, 3, 2, 1, 3, 3, 2, 3, 1, 2, 1, 2, 3, 3, 2, 1, 1]\n",
      "Ground truth: [3, 1, 3, 3, 3, 2, 1, 3, 2, 3, 3, 1, 2, 2, 2, 2, 3, 1, 1, 2]\n"
     ]
    }
   ],
   "source": [
    "print(\"Predicted:\",predicted_categories_rtmr.tolist()[100:120]) # Print the first 10 predictions\n",
    "print(\"Ground truth:\",rtmr_test_new[\"Label\"].tolist()[100:120])"
   ]
  },
  {
   "cell_type": "code",
   "execution_count": 44,
   "id": "10b51bf1",
   "metadata": {},
   "outputs": [
    {
     "data": {
      "image/png": "[encoded data removed]",
      "text/plain": [
       "<Figure size 432x288 with 2 Axes>"
      ]
     },
     "metadata": {},
     "output_type": "display_data"
    },
    {
     "name": "stdout",
     "output_type": "stream",
     "text": [
      "Accuracy:\t0.592849\n",
      "F1-score:\t0.596309\n",
      "Precision:\t0.593887\n",
      "Recall:\t\t0.644058\n",
      "\n",
      "Classification performance:\n",
      "              precision    recall  f1-score   support\n",
      "\n",
      "           1       0.49      0.72      0.58      1706\n",
      "           2       0.73      0.45      0.56      4027\n",
      "           3       0.56      0.76      0.65      2070\n",
      "\n",
      "    accuracy                           0.59      7803\n",
      "   macro avg       0.59      0.64      0.60      7803\n",
      "weighted avg       0.63      0.59      0.59      7803\n",
      "\n"
     ]
    },
    {
     "data": {
      "text/plain": [
       "<Figure size 432x288 with 0 Axes>"
      ]
     },
     "metadata": {},
     "output_type": "display_data"
    }
   ],
   "source": [
    "sns.set() # use seaborn plotting style\n",
    "# Plot the confusion matrix\n",
    "mat = confusion_matrix(rtmr_test_new['Label'], predicted_categories_rtmr)\n",
    "sns.heatmap(mat.T, square = True, annot=True, fmt = \"d\")\n",
    "plt.xlabel(\"True label\")\n",
    "plt.ylabel(\"Predicted label\")\n",
    "plt.show()\n",
    "# Compute and print classification performance metrics\n",
    "print(\"Accuracy:\\t%f\" % accuracy_score(rtmr_test_new['Label'], predicted_categories_rtmr))\n",
    "print(\"F1-score:\\t%f\" % f1_score(rtmr_test_new['Label'], predicted_categories_rtmr, average='macro'))\n",
    "print(\"Precision:\\t%f\" % precision_score(rtmr_test_new['Label'], predicted_categories_rtmr, average='macro'))\n",
    "print(\"Recall:\\t\\t%f\" % recall_score(rtmr_test_new['Label'], predicted_categories_rtmr, average='macro'))\n",
    "print(\"\\nClassification performance:\\n%s\" % classification_report(rtmr_test_new['Label'], predicted_categories_rtmr))\n",
    "plt.savefig(\"con_rtmr.png\")"
   ]
  },
  {
   "cell_type": "markdown",
   "id": "84e095b9",
   "metadata": {},
   "source": [
    "#### 1c) Naive Bayes trained on combined dataset and tested on s140 and RTMR seperately"
   ]
  },
  {
   "cell_type": "code",
   "execution_count": 45,
   "id": "de0ab6ec",
   "metadata": {},
   "outputs": [
    {
     "data": {
      "text/html": [
       "<div>\n",
       "<style scoped>\n",
       "    .dataframe tbody tr th:only-of-type {\n",
       "        vertical-align: middle;\n",
       "    }\n",
       "\n",
       "    .dataframe tbody tr th {\n",
       "        vertical-align: top;\n",
       "    }\n",
       "\n",
       "    .dataframe thead th {\n",
       "        text-align: right;\n",
       "    }\n",
       "</style>\n",
       "<table border=\"1\" class=\"dataframe\">\n",
       "  <thead>\n",
       "    <tr style=\"text-align: right;\">\n",
       "      <th></th>\n",
       "      <th>Label</th>\n",
       "      <th>Text</th>\n",
       "    </tr>\n",
       "  </thead>\n",
       "  <tbody>\n",
       "    <tr>\n",
       "      <th>0</th>\n",
       "      <td>0</td>\n",
       "      <td>Awww thats bummer shoulda got David Carr Third...</td>\n",
       "    </tr>\n",
       "    <tr>\n",
       "      <th>1</th>\n",
       "      <td>0</td>\n",
       "      <td>upset cant update Facebook texting might cry r...</td>\n",
       "    </tr>\n",
       "    <tr>\n",
       "      <th>2</th>\n",
       "      <td>0</td>\n",
       "      <td>dived many times ball Managed save 50 rest go ...</td>\n",
       "    </tr>\n",
       "    <tr>\n",
       "      <th>3</th>\n",
       "      <td>0</td>\n",
       "      <td>whole body feels itchy like fire</td>\n",
       "    </tr>\n",
       "    <tr>\n",
       "      <th>4</th>\n",
       "      <td>0</td>\n",
       "      <td>behaving im mad cant see</td>\n",
       "    </tr>\n",
       "    <tr>\n",
       "      <th>...</th>\n",
       "      <td>...</td>\n",
       "      <td>...</td>\n",
       "    </tr>\n",
       "    <tr>\n",
       "      <th>148251</th>\n",
       "      <td>2</td>\n",
       "      <td>joy rising stale material</td>\n",
       "    </tr>\n",
       "    <tr>\n",
       "      <th>148252</th>\n",
       "      <td>2</td>\n",
       "      <td>Directors Harry Gantz Joe Gantz chosen fascina...</td>\n",
       "    </tr>\n",
       "    <tr>\n",
       "      <th>148253</th>\n",
       "      <td>2</td>\n",
       "      <td>enough vices merit 103-minute length</td>\n",
       "    </tr>\n",
       "    <tr>\n",
       "      <th>148254</th>\n",
       "      <td>1</td>\n",
       "      <td>lack purpose</td>\n",
       "    </tr>\n",
       "    <tr>\n",
       "      <th>148255</th>\n",
       "      <td>3</td>\n",
       "      <td>eventual cult classic would understatement</td>\n",
       "    </tr>\n",
       "  </tbody>\n",
       "</table>\n",
       "<p>1748256 rows × 2 columns</p>\n",
       "</div>"
      ],
      "text/plain": [
       "        Label                                               Text\n",
       "0           0  Awww thats bummer shoulda got David Carr Third...\n",
       "1           0  upset cant update Facebook texting might cry r...\n",
       "2           0  dived many times ball Managed save 50 rest go ...\n",
       "3           0                   whole body feels itchy like fire\n",
       "4           0                           behaving im mad cant see\n",
       "...       ...                                                ...\n",
       "148251      2                          joy rising stale material\n",
       "148252      2  Directors Harry Gantz Joe Gantz chosen fascina...\n",
       "148253      2               enough vices merit 103-minute length\n",
       "148254      1                                       lack purpose\n",
       "148255      3         eventual cult classic would understatement\n",
       "\n",
       "[1748256 rows x 2 columns]"
      ]
     },
     "execution_count": 45,
     "metadata": {},
     "output_type": "execute_result"
    }
   ],
   "source": [
    "combined_train"
   ]
  },
  {
   "cell_type": "code",
   "execution_count": 46,
   "id": "a90d76fc",
   "metadata": {},
   "outputs": [
    {
     "name": "stdout",
     "output_type": "stream",
     "text": [
      "\u001b[1mThe class weights:\u001b[0m\n",
      "{0: 0.437064, 1: 10.713009375574483, 2: 4.627770498312487, 3: 8.727534133739361, 4: 0.437064}\n"
     ]
    }
   ],
   "source": [
    "# Finding the class weights for the majority and minority class\n",
    "y_org = np.unique(combined_train['Label'])\n",
    "class_weights = class_weight.compute_class_weight(\n",
    "    'balanced', classes=y_org, y=combined_train['Label'])\n",
    "\n",
    "# Converting the class_weights into dictionary format\n",
    "class_weight_dict = dict(enumerate(class_weights))\n",
    "print(\"\\033[1mThe class weights:\\033[0m\")\n",
    "print(class_weight_dict)\n",
    "\n",
    "sample = class_weight.compute_sample_weight('balanced', combined_train['Label'])"
   ]
  },
  {
   "cell_type": "code",
   "execution_count": 47,
   "id": "4339720d",
   "metadata": {},
   "outputs": [],
   "source": [
    "model_combined_NB = make_pipeline(TfidfVectorizer(), MultinomialNB())\n",
    "model_combined_NB.fit(combined_train[\"Text\"], combined_train[\"Label\"], multinomialnb__sample_weight=sample) # Train the model on the training data\n",
    "predicted_categories_combined = model_combined_NB.predict(senti_test_modd[\"Text\"])\n",
    "pred = model_combined_NB.predict(combined_train[\"Text\"])"
   ]
  },
  {
   "cell_type": "code",
   "execution_count": 48,
   "id": "535fa9ee",
   "metadata": {},
   "outputs": [
    {
     "name": "stdout",
     "output_type": "stream",
     "text": [
      "Predicted: [4, 4, 4, 4, 0, 0, 4, 4, 4, 4, 4, 4, 4, 4, 4, 4, 4, 0, 4, 4]\n",
      "Ground truth: [0, 0, 0, 0, 0, 0, 4, 0, 4, 4, 4, 4, 4, 4, 4, 4, 4, 0, 4, 4]\n"
     ]
    }
   ],
   "source": [
    "print(\"Predicted:\",predicted_categories_combined.tolist()[100:120]) # Print the first 10 predictions\n",
    "print(\"Ground truth:\",senti_test_modd[\"Label\"].tolist()[100:120]) # Print the first 10 ground truth values"
   ]
  },
  {
   "cell_type": "code",
   "execution_count": 49,
   "id": "fb07f463",
   "metadata": {},
   "outputs": [
    {
     "data": {
      "image/png": "[encoded data removed]",
      "text/plain": [
       "<Figure size 432x288 with 2 Axes>"
      ]
     },
     "metadata": {},
     "output_type": "display_data"
    },
    {
     "name": "stdout",
     "output_type": "stream",
     "text": [
      "Accuracy:\t0.634538\n",
      "F1-score:\t0.261733\n",
      "Precision:\t0.275781\n",
      "Recall:\t\t0.263841\n",
      "\n",
      "Classification performance:\n",
      "              precision    recall  f1-score   support\n",
      "\n",
      "           0       0.83      0.57      0.67       316\n",
      "           1       0.00      0.00      0.00         0\n",
      "           2       0.00      0.00      0.00         0\n",
      "           3       0.00      0.00      0.00         0\n",
      "           4       0.55      0.75      0.64       182\n",
      "\n",
      "    accuracy                           0.63       498\n",
      "   macro avg       0.28      0.26      0.26       498\n",
      "weighted avg       0.73      0.63      0.66       498\n",
      "\n"
     ]
    },
    {
     "data": {
      "text/plain": [
       "<Figure size 432x288 with 0 Axes>"
      ]
     },
     "metadata": {},
     "output_type": "display_data"
    }
   ],
   "source": [
    "sns.set() # use seaborn plotting style\n",
    "# Plot the confusion matrix\n",
    "mat = confusion_matrix(senti_test_modd['Label'], predicted_categories_combined)\n",
    "sns.heatmap(mat.T, square = True, annot=True, fmt = \"d\")\n",
    "plt.xlabel(\"True label\")\n",
    "plt.ylabel(\"Predicted label\")\n",
    "plt.show()\n",
    "# Compute and print classification performance metrics\n",
    "print(\"Accuracy:\\t%f\" % accuracy_score(senti_test_modd['Label'], predicted_categories_combined))\n",
    "print(\"F1-score:\\t%f\" % f1_score(senti_test_modd['Label'], predicted_categories_combined, average='macro'))\n",
    "print(\"Precision:\\t%f\" % precision_score(senti_test_modd['Label'], predicted_categories_combined, average='macro'))\n",
    "print(\"Recall:\\t\\t%f\" % recall_score(senti_test_modd['Label'], predicted_categories_combined, average='macro'))\n",
    "print(\"\\nClassification performance:\\n%s\" % classification_report(senti_test_modd['Label'], predicted_categories_combined))\n",
    "plt.savefig(\"con_combined_senti.png\")"
   ]
  },
  {
   "cell_type": "code",
   "execution_count": 50,
   "id": "dd6921bc",
   "metadata": {},
   "outputs": [],
   "source": [
    "predicted_categories_combined = model_combined_NB.predict(rtmr_test_new[\"Text\"])\n",
    "pred = model_combined_NB.predict(combined_train[\"Text\"])"
   ]
  },
  {
   "cell_type": "code",
   "execution_count": 51,
   "id": "8bf48807",
   "metadata": {},
   "outputs": [
    {
     "data": {
      "image/png": "[encoded data removed]",
      "text/plain": [
       "<Figure size 432x288 with 2 Axes>"
      ]
     },
     "metadata": {},
     "output_type": "display_data"
    },
    {
     "name": "stdout",
     "output_type": "stream",
     "text": [
      "Accuracy:\t0.543253\n",
      "F1-score:\t0.343272\n",
      "Precision:\t0.360732\n",
      "Recall:\t\t0.367365\n",
      "\n",
      "Classification performance:\n",
      "              precision    recall  f1-score   support\n",
      "\n",
      "           0       0.00      0.00      0.00         0\n",
      "           1       0.50      0.72      0.59      1706\n",
      "           2       0.75      0.36      0.48      4027\n",
      "           3       0.56      0.76      0.64      2070\n",
      "           4       0.00      0.00      0.00         0\n",
      "\n",
      "    accuracy                           0.54      7803\n",
      "   macro avg       0.36      0.37      0.34      7803\n",
      "weighted avg       0.64      0.54      0.55      7803\n",
      "\n"
     ]
    },
    {
     "data": {
      "text/plain": [
       "<Figure size 432x288 with 0 Axes>"
      ]
     },
     "metadata": {},
     "output_type": "display_data"
    }
   ],
   "source": [
    "sns.set() # use seaborn plotting style\n",
    "# Plot the confusion matrix\n",
    "mat = confusion_matrix(rtmr_test_new['Label'], predicted_categories_combined)\n",
    "sns.heatmap(mat.T, square = True, annot=True, fmt = \"d\")\n",
    "plt.xlabel(\"True label\")\n",
    "plt.ylabel(\"Predicted label\")\n",
    "plt.show()\n",
    "# Compute and print classification performance metrics\n",
    "print(\"Accuracy:\\t%f\" % accuracy_score(rtmr_test_new['Label'], predicted_categories_combined))\n",
    "print(\"F1-score:\\t%f\" % f1_score(rtmr_test_new['Label'], predicted_categories_combined, average='macro'))\n",
    "print(\"Precision:\\t%f\" % precision_score(rtmr_test_new['Label'], predicted_categories_combined, average='macro'))\n",
    "print(\"Recall:\\t\\t%f\" % recall_score(rtmr_test_new['Label'], predicted_categories_combined, average='macro'))\n",
    "print(\"\\nClassification performance:\\n%s\" % classification_report(rtmr_test_new['Label'], predicted_categories_combined))\n",
    "plt.savefig(\"con_combined_rtmr.png\")"
   ]
  },
  {
   "cell_type": "markdown",
   "id": "6677567e",
   "metadata": {},
   "source": [
    "# CNN"
   ]
  },
  {
   "cell_type": "code",
   "execution_count": 52,
   "id": "ce2dc038",
   "metadata": {},
   "outputs": [],
   "source": [
    "from sklearn.model_selection import train_test_split             \n",
    "from keras.preprocessing.text import Tokenizer                    \n",
    "from keras.preprocessing.sequence import pad_sequences\n",
    "from keras.models import Sequential\n",
    "from keras import layers"
   ]
  },
  {
   "cell_type": "code",
   "execution_count": 53,
   "id": "19cdf63b",
   "metadata": {},
   "outputs": [],
   "source": [
    "sentences_train,sentences_test,y_train,y_test = train_test_split(\n",
    "                                                rtmr_train_new_cnn['Text'], rtmr_train_new_cnn['Label'],  \n",
    "                                                test_size=0.25,  \n",
    "                                                random_state=1000)\n",
    "\n",
    "tokenizer = Tokenizer(num_words=5000)\n",
    "tokenizer.fit_on_texts(sentences_train)\n",
    "\n",
    "X_train = tokenizer.texts_to_sequences(sentences_train)\n",
    "X_test = tokenizer.texts_to_sequences(sentences_test)\n",
    "X_test_rtmr = tokenizer.texts_to_sequences(rtmr_test_new_cnn['Text'])\n",
    "# Adding 1 because of  reserved 0 index\n",
    "vocab_size = len(tokenizer.word_index) + 1                          \n",
    "\n",
    "maxlen = 100\n",
    "\n",
    "X_train = pad_sequences(X_train, padding='post', maxlen=maxlen)\n",
    "X_test = pad_sequences(X_test, padding='post', maxlen=maxlen)\n",
    "X_test_rtmr = pad_sequences(X_test_rtmr, padding='post', maxlen=maxlen)"
   ]
  },
  {
   "cell_type": "code",
   "execution_count": 54,
   "id": "738c708a",
   "metadata": {},
   "outputs": [],
   "source": [
    "def create_embedding_matrix(filepath, word_index, embedding_dim):\n",
    "        vocab_size = len(word_index) + 1  \n",
    "        # Adding again 1 because of reserved 0 index\n",
    "        embedding_matrix = np.zeros((vocab_size, embedding_dim))\n",
    "\n",
    "        with open(filepath,encoding=\"utf8\") as f:\n",
    "            for line in f:\n",
    "                word, *vector = line.split()\n",
    "                if word in word_index:\n",
    "                    idx = word_index[word] \n",
    "                    embedding_matrix[idx] = np.array(vector, dtype=np.float32)[:embedding_dim]\n",
    "        return embedding_matrix"
   ]
  },
  {
   "cell_type": "code",
   "execution_count": 55,
   "id": "c0712569",
   "metadata": {},
   "outputs": [],
   "source": [
    "file = \"glove.6B.50d.txt\"\n",
    "embedding_dim = 50\n",
    "embedding_matrix = create_embedding_matrix(file,\n",
    "                                            tokenizer.word_index,  \n",
    "                                            embedding_dim)"
   ]
  },
  {
   "cell_type": "code",
   "execution_count": 56,
   "id": "3a8a5e51",
   "metadata": {},
   "outputs": [
    {
     "name": "stdout",
     "output_type": "stream",
     "text": [
      "Epoch 1/10\n",
      "11120/11120 [==============================] - 73s 7ms/step - loss: 1.1824 - accuracy: 0.5263 - val_loss: 1.0815 - val_accuracy: 0.5658\n",
      "Epoch 2/10\n",
      "11120/11120 [==============================] - 75s 7ms/step - loss: 1.0160 - accuracy: 0.5951 - val_loss: 0.9412 - val_accuracy: 0.6263\n",
      "Epoch 3/10\n",
      "11120/11120 [==============================] - 77s 7ms/step - loss: 0.9142 - accuracy: 0.6396 - val_loss: 0.9125 - val_accuracy: 0.6358\n",
      "Epoch 4/10\n",
      "11120/11120 [==============================] - 75s 7ms/step - loss: 0.8674 - accuracy: 0.6559 - val_loss: 0.9115 - val_accuracy: 0.6413\n",
      "Epoch 5/10\n",
      "11120/11120 [==============================] - 76s 7ms/step - loss: 0.8328 - accuracy: 0.6694 - val_loss: 0.9177 - val_accuracy: 0.6398\n",
      "Epoch 6/10\n",
      "11120/11120 [==============================] - 76s 7ms/step - loss: 0.8044 - accuracy: 0.6795 - val_loss: 0.9074 - val_accuracy: 0.6479\n",
      "Epoch 7/10\n",
      "11120/11120 [==============================] - 78s 7ms/step - loss: 0.7786 - accuracy: 0.6934 - val_loss: 0.9262 - val_accuracy: 0.6473\n",
      "Epoch 8/10\n",
      "11120/11120 [==============================] - 79s 7ms/step - loss: 0.7577 - accuracy: 0.7041 - val_loss: 0.9161 - val_accuracy: 0.6488\n",
      "Epoch 9/10\n",
      "11120/11120 [==============================] - 79s 7ms/step - loss: 0.7428 - accuracy: 0.7102 - val_loss: 0.9421 - val_accuracy: 0.6485\n",
      "Epoch 10/10\n",
      "11120/11120 [==============================] - 78s 7ms/step - loss: 0.7275 - accuracy: 0.7141 - val_loss: 0.9654 - val_accuracy: 0.6449\n"
     ]
    }
   ],
   "source": [
    "embedding_dim = 50\n",
    "\n",
    "model_cnn = Sequential()\n",
    "model_cnn.add(layers.Embedding(vocab_size, embedding_dim, input_length=(maxlen)))\n",
    "model_cnn.add(layers.Conv1D(50, 3, activation='relu'))\n",
    "model_cnn.add(layers.MaxPooling1D(3))\n",
    "model_cnn.add(layers.Conv1D(50, 3, activation='relu'))\n",
    "model_cnn.add(layers.MaxPooling1D(3))\n",
    "model_cnn.add(layers.Conv1D(50, 3, activation='relu'))\n",
    "model_cnn.add(layers.MaxPooling1D(3))\n",
    "model_cnn.add(layers.Flatten())\n",
    "model_cnn.add(layers.Dense(10, activation='relu'))\n",
    "model_cnn.add(layers.Dropout(0.25))\n",
    "model_cnn.add(layers.Dense(6, activation='softmax'))\n",
    "model_cnn.compile(optimizer='adam',\n",
    "              loss='sparse_categorical_crossentropy',\n",
    "              metrics=['accuracy'])\n",
    "history = model_cnn.fit(X_train, y_train,\n",
    "                    epochs=10,\n",
    "                    validation_data=(X_test, y_test),\n",
    "                    batch_size=10)"
   ]
  },
  {
   "cell_type": "code",
   "execution_count": 57,
   "id": "e111dcc4",
   "metadata": {},
   "outputs": [],
   "source": [
    "X_test_rtmr = tokenizer.texts_to_sequences(rtmr_test_new_cnn['Text'])\n",
    "X_test_rtmr = pad_sequences(X_test_rtmr, padding='post', maxlen=maxlen)"
   ]
  },
  {
   "cell_type": "code",
   "execution_count": 58,
   "id": "ae3aded9",
   "metadata": {},
   "outputs": [
    {
     "name": "stdout",
     "output_type": "stream",
     "text": [
      "244/244 [==============================] - 1s 2ms/step - loss: 0.9800 - accuracy: 0.6391\n"
     ]
    },
    {
     "data": {
      "text/plain": [
       "[0.9799572825431824, 0.639113187789917]"
      ]
     },
     "execution_count": 58,
     "metadata": {},
     "output_type": "execute_result"
    }
   ],
   "source": [
    "model_cnn.evaluate(X_test_rtmr,rtmr_test_new_cnn['Label'], verbose=1)"
   ]
  },
  {
   "cell_type": "code",
   "execution_count": 59,
   "id": "b93dbad1",
   "metadata": {},
   "outputs": [],
   "source": [
    "predicted_categories_cnn = model_cnn.predict(X_test_rtmr)\n",
    "predicted_categories_cnn_label = np.argmax(predicted_categories_cnn, axis=1)"
   ]
  },
  {
   "cell_type": "code",
   "execution_count": 60,
   "id": "10d451b0",
   "metadata": {},
   "outputs": [
    {
     "data": {
      "image/png": "[encoded data removed]",
      "text/plain": [
       "<Figure size 432x288 with 2 Axes>"
      ]
     },
     "metadata": {},
     "output_type": "display_data"
    },
    {
     "name": "stdout",
     "output_type": "stream",
     "text": [
      "Accuracy:\t0.639113\n",
      "F1-score:\t0.465065\n",
      "Precision:\t0.550126\n",
      "Recall:\t\t0.438638\n",
      "\n",
      "Classification performance:\n",
      "              precision    recall  f1-score   support\n",
      "\n",
      "           0       0.45      0.11      0.18       306\n",
      "           1       0.54      0.45      0.49      1400\n",
      "           2       0.70      0.83      0.76      4027\n",
      "           3       0.55      0.53      0.54      1638\n",
      "           4       0.50      0.28      0.36       432\n",
      "\n",
      "    accuracy                           0.64      7803\n",
      "   macro avg       0.55      0.44      0.47      7803\n",
      "weighted avg       0.62      0.64      0.62      7803\n",
      "\n"
     ]
    },
    {
     "data": {
      "text/plain": [
       "<Figure size 432x288 with 0 Axes>"
      ]
     },
     "metadata": {},
     "output_type": "display_data"
    }
   ],
   "source": [
    "sns.set() # use seaborn plotting style\n",
    "# Plot the confusion matrix\n",
    "mat = confusion_matrix(rtmr_test_new_cnn['Label'],predicted_categories_cnn_label)\n",
    "sns.heatmap(mat.T, square = True, annot=True, fmt = \"d\")\n",
    "plt.xlabel(\"True label\")\n",
    "plt.ylabel(\"Predicted label\")\n",
    "plt.show()\n",
    "# Compute and print classification performance metrics\n",
    "print(\"Accuracy:\\t%f\" % accuracy_score(rtmr_test_new_cnn['Label'], predicted_categories_cnn_label))\n",
    "print(\"F1-score:\\t%f\" % f1_score(rtmr_test_new_cnn['Label'], predicted_categories_cnn_label, average='macro'))\n",
    "print(\"Precision:\\t%f\" % precision_score(rtmr_test_new_cnn['Label'], predicted_categories_cnn_label, average='macro'))\n",
    "print(\"Recall:\\t\\t%f\" % recall_score(rtmr_test_new_cnn['Label'], predicted_categories_cnn_label, average='macro'))\n",
    "print(\"\\nClassification performance:\\n%s\" % classification_report(rtmr_test_new_cnn['Label'], predicted_categories_cnn_label))\n",
    "plt.savefig(\"con_rtmr_cnn.png\")"
   ]
  },
  {
   "cell_type": "code",
   "execution_count": 61,
   "id": "cc744d66",
   "metadata": {},
   "outputs": [],
   "source": [
    "#senti_modd_cnn\n",
    "X_test_senti = tokenizer.texts_to_sequences(senti_test_modd['Text'])\n",
    "X_test_senti = pad_sequences(X_test_senti, padding='post', maxlen=maxlen)"
   ]
  },
  {
   "cell_type": "code",
   "execution_count": 62,
   "id": "99fd7c45",
   "metadata": {},
   "outputs": [
    {
     "name": "stdout",
     "output_type": "stream",
     "text": [
      "16/16 [==============================] - 0s 2ms/step - loss: 5.2646 - accuracy: 0.0221\n"
     ]
    },
    {
     "data": {
      "text/plain": [
       "[5.264609336853027, 0.02208835259079933]"
      ]
     },
     "execution_count": 62,
     "metadata": {},
     "output_type": "execute_result"
    }
   ],
   "source": [
    "model_cnn.evaluate(X_test_senti,senti_test_modd['Label'], verbose=1)"
   ]
  },
  {
   "cell_type": "code",
   "execution_count": 63,
   "id": "d7b4adc1",
   "metadata": {},
   "outputs": [],
   "source": [
    "predicted_categories_cnn_senti = model_cnn.predict(X_test_senti)\n",
    "predicted_categories_cnn_senti_label = np.argmax(predicted_categories_cnn_senti, axis=1)"
   ]
  },
  {
   "cell_type": "code",
   "execution_count": 64,
   "id": "c43b83b5",
   "metadata": {},
   "outputs": [
    {
     "data": {
      "image/png": "[encoded data removed]",
      "text/plain": [
       "<Figure size 432x288 with 2 Axes>"
      ]
     },
     "metadata": {},
     "output_type": "display_data"
    },
    {
     "name": "stdout",
     "output_type": "stream",
     "text": [
      "Accuracy:\t0.022088\n",
      "F1-score:\t0.021169\n",
      "Precision:\t0.363636\n",
      "Recall:\t\t0.011156\n",
      "\n",
      "Classification performance:\n",
      "              precision    recall  f1-score   support\n",
      "\n",
      "           0       1.00      0.01      0.01       316\n",
      "           1       0.00      0.00      0.00         0\n",
      "           2       0.00      0.00      0.00         0\n",
      "           3       0.00      0.00      0.00         0\n",
      "           4       0.82      0.05      0.09       182\n",
      "\n",
      "    accuracy                           0.02       498\n",
      "   macro avg       0.36      0.01      0.02       498\n",
      "weighted avg       0.93      0.02      0.04       498\n",
      "\n"
     ]
    },
    {
     "data": {
      "text/plain": [
       "<Figure size 432x288 with 0 Axes>"
      ]
     },
     "metadata": {},
     "output_type": "display_data"
    }
   ],
   "source": [
    "sns.set() # use seaborn plotting style\n",
    "# Plot the confusion matrix\n",
    "mat = confusion_matrix(senti_test_modd['Label'],predicted_categories_cnn_senti_label)\n",
    "sns.heatmap(mat.T, square = True, annot=True, fmt = \"d\")\n",
    "plt.xlabel(\"True label\")\n",
    "plt.ylabel(\"Predicted label\")\n",
    "plt.show()\n",
    "# Compute and print classification performance metrics\n",
    "print(\"Accuracy:\\t%f\" % accuracy_score(senti_test_modd['Label'], predicted_categories_cnn_senti_label))\n",
    "print(\"F1-score:\\t%f\" % f1_score(senti_test_modd['Label'], predicted_categories_cnn_senti_label, average='macro'))\n",
    "print(\"Precision:\\t%f\" % precision_score(senti_test_modd['Label'], predicted_categories_cnn_senti_label, average='macro'))\n",
    "print(\"Recall:\\t\\t%f\" % recall_score(senti_test_modd['Label'], predicted_categories_cnn_senti_label, average='macro'))\n",
    "print(\"\\nClassification performance:\\n%s\" % classification_report(senti_test_modd['Label'], predicted_categories_cnn_senti_label))\n",
    "plt.savefig(\"con_senti_cnn.png\")"
   ]
  },
  {
   "cell_type": "markdown",
   "id": "3c5052d2",
   "metadata": {},
   "source": [
    "# RNN AND LSTM"
   ]
  },
  {
   "cell_type": "code",
   "execution_count": 69,
   "id": "bda9d345",
   "metadata": {},
   "outputs": [],
   "source": [
    "import torch\n",
    "from torchtext.legacy.data import Field, TabularDataset,BucketIterator, LabelField\n",
    "import torch.nn as nn\n",
    "from torch.nn.utils.rnn import pack_padded_sequence, pad_packed_sequence\n",
    "import torch.optim as optim\n",
    "from sklearn.metrics import accuracy_score, classification_report, confusion_matrix\n",
    "import seaborn as sns\n",
    "import spacy\n",
    "from spacy.tokenizer import Tokenizer\n",
    "from nltk import word_tokenize # Import the word_tokenize function from NLTK83"
   ]
  },
  {
   "cell_type": "code",
   "execution_count": 70,
   "id": "7a488096",
   "metadata": {},
   "outputs": [],
   "source": [
    "from torchtext import data"
   ]
  },
  {
   "cell_type": "code",
   "execution_count": 71,
   "id": "0c2c6c6d",
   "metadata": {},
   "outputs": [],
   "source": [
    "rtmr_train_new.drop(rtmr_train_new[rtmr_train_new['Text'].map(len) <= 0].index, inplace = True)\n",
    "rtmr_train_new_lstm = rtmr_train_new.copy()\n",
    "rtmr_train_new_lstm.drop(rtmr_train_new_lstm[rtmr_train_new_lstm['Label'] == 2].index, inplace = True)"
   ]
  },
  {
   "cell_type": "code",
   "execution_count": 72,
   "id": "d7a42d30",
   "metadata": {},
   "outputs": [],
   "source": [
    "rtmr_test_new.drop(rtmr_test_new[rtmr_test_new['Text'].map(len) <= 0].index, inplace = True)\n",
    "rtmr_test_new_lstm = rtmr_test_new.copy()\n",
    "rtmr_test_new_lstm.drop(rtmr_test_new_lstm[rtmr_test_new_lstm['Label'] == 2].index, inplace = True)"
   ]
  },
  {
   "cell_type": "code",
   "execution_count": 73,
   "id": "3b50f9a3",
   "metadata": {},
   "outputs": [],
   "source": [
    "senti_test_modd.drop(senti_test_modd[senti_test_modd['Text'].map(len) <= 0].index, inplace = True)"
   ]
  },
  {
   "cell_type": "code",
   "execution_count": 74,
   "id": "4de927ca",
   "metadata": {},
   "outputs": [],
   "source": [
    "rtmr_train_new_lstm.to_csv('rtmr_train_new_lstm.csv',index = False, header = False)"
   ]
  },
  {
   "cell_type": "code",
   "execution_count": 75,
   "id": "947f2c74",
   "metadata": {},
   "outputs": [],
   "source": [
    "rtmr_test_new_lstm.to_csv('rtmr_test_new_lstm.csv',index = False, header = False)"
   ]
  },
  {
   "cell_type": "code",
   "execution_count": 76,
   "id": "4a10e782",
   "metadata": {},
   "outputs": [],
   "source": [
    "senti_test_modd.to_csv('senti_test_modd.csv', index = False , header = False)"
   ]
  },
  {
   "cell_type": "code",
   "execution_count": 77,
   "id": "1f201123",
   "metadata": {},
   "outputs": [],
   "source": [
    "TEXT = Field(tokenize=word_tokenize,batch_first=True,include_lengths=True) # Create text field for dataset\n",
    "LABEL = LabelField(dtype = torch.float,batch_first=True) # Create label field for dataset\n",
    "fields = [('text',TEXT),('label', LABEL)]\n",
    "# Load dataset from csv file\n",
    "dataset= TabularDataset(path = 'rtmr_train_new_lstm.csv',format = 'csv',fields =\n",
    "fields,skip_header = False)"
   ]
  },
  {
   "cell_type": "code",
   "execution_count": 78,
   "id": "89befeb9",
   "metadata": {},
   "outputs": [
    {
     "data": {
      "text/plain": [
       "<torchtext.legacy.data.dataset.TabularDataset at 0x2aeb735c670>"
      ]
     },
     "execution_count": 78,
     "metadata": {},
     "output_type": "execute_result"
    }
   ],
   "source": [
    "dataset"
   ]
  },
  {
   "cell_type": "code",
   "execution_count": 79,
   "id": "aaea5e57",
   "metadata": {},
   "outputs": [],
   "source": [
    "TEXT_rtmr_test = Field(tokenize=word_tokenize,batch_first=True,include_lengths=True) # Create text field for dataset\n",
    "LABEL_rtmr_test = LabelField(dtype = torch.float,batch_first=True) # Create label field for dataset\n",
    "fields = [('text',TEXT),('label', LABEL)]\n",
    "# Load dataset from csv file\n",
    "dataset_rtmr_test = TabularDataset(path = 'rtmr_test_new_lstm.csv',format = 'csv',fields =\n",
    "fields,skip_header = False)"
   ]
  },
  {
   "cell_type": "code",
   "execution_count": 80,
   "id": "27a13755",
   "metadata": {},
   "outputs": [],
   "source": [
    "TEXT_senti_test = Field(tokenize=word_tokenize,batch_first=True,include_lengths=True) # Create text field for dataset\n",
    "LABEL_senti_test = LabelField(dtype = torch.float,batch_first=True) # Create label field for dataset\n",
    "fields = [('text',TEXT),('label', LABEL)]\n",
    "# Load dataset from csv file\n",
    "dataset_senti_test = TabularDataset(path = 'senti_test_modd.csv',format = 'csv',fields =\n",
    "fields,skip_header = False)"
   ]
  },
  {
   "cell_type": "code",
   "execution_count": 81,
   "id": "04c66751",
   "metadata": {},
   "outputs": [
    {
     "data": {
      "text/plain": [
       "<torchtext.legacy.data.dataset.TabularDataset at 0x2aeb735c670>"
      ]
     },
     "execution_count": 81,
     "metadata": {},
     "output_type": "execute_result"
    }
   ],
   "source": [
    "dataset"
   ]
  },
  {
   "cell_type": "code",
   "execution_count": 82,
   "id": "f497ed6d",
   "metadata": {},
   "outputs": [
    {
     "name": "stdout",
     "output_type": "stream",
     "text": [
      "{'text': ['willingness', 'explore', 'principal', 'characters', 'honesty', ',', 'insight', 'humor'], 'label': '3'}\n"
     ]
    }
   ],
   "source": [
    "print(vars(dataset.examples[120]))"
   ]
  },
  {
   "cell_type": "code",
   "execution_count": 83,
   "id": "04af3f63",
   "metadata": {},
   "outputs": [
    {
     "name": "stdout",
     "output_type": "stream",
     "text": [
      "Size of TEXT vocabulary: 17587\n",
      "Size of LABEL vocabulary: 2 \n",
      "\n",
      "Most common tokens: [(',', 27455), ('.', 12994), (\"'s\", 9458), ('film', 4253), ('movie', 3758), (\"n't\", 2540), ('--', 2210), ('one', 2048), ('``', 1749), ('like', 1744), (\"'\", 1477), ('story', 1464), ('good', 1456), ('...', 1340), ('-RRB-', 1250), ('characters', 1212), ('funny', 1195), ('-LRB-', 1150), ('comedy', 1116), ('much', 1072)] \n",
      "\n",
      "Index of unknown word <unk>: 0\n",
      "Index of padding word <pad>: 1\n"
     ]
    }
   ],
   "source": [
    "TEXT.build_vocab(dataset,min_freq=1) # Build vocabulary from training set. Consider words that occur at least 1 time\n",
    "LABEL.build_vocab(dataset) # Build vocabulary for labels\n",
    "print(\"Size of TEXT vocabulary:\",len(TEXT.vocab)) # Number of unique tokens in vocabulary\n",
    "print(\"Size of LABEL vocabulary:\",len(LABEL.vocab),\"\\n\") # Number of unique labels\n",
    "print(\"Most common tokens:\",TEXT.vocab.freqs.most_common(20),\"\\n\") # Print the 10 most common tokens in the training set\n",
    "# Print the index number for the unknown token (<unk>) and the token used for padding (<pad>)\n",
    "print(\"Index of unknown word <unk>:\",TEXT.vocab.stoi['<unk>'])\n",
    "print(\"Index of padding word <pad>:\",TEXT.vocab.stoi['<pad>'])"
   ]
  },
  {
   "cell_type": "code",
   "execution_count": 84,
   "id": "49d9b824",
   "metadata": {},
   "outputs": [],
   "source": [
    "import random\n",
    "RANDOM_SEED = 42"
   ]
  },
  {
   "cell_type": "code",
   "execution_count": 85,
   "id": "10502922",
   "metadata": {},
   "outputs": [
    {
     "name": "stdout",
     "output_type": "stream",
     "text": [
      "Device: cpu\n"
     ]
    }
   ],
   "source": [
    "device = torch.device('cuda' if torch.cuda.is_available() else 'cpu') #Set device to GPU if cuda available, else CPU\n",
    "print(\"Device:\",device)\n",
    "torch.manual_seed(RANDOM_SEED)\n",
    "BATCH_SIZE = 32 #Set batch size for training\n",
    "# Create data iterator for training and test sets\n",
    "training_iterator_rtmr, test_iterator_rtmr = BucketIterator.splits(\n",
    "(dataset,dataset_rtmr_test),\n",
    "batch_size = BATCH_SIZE,\n",
    "sort_key = lambda x: len(x.text),\n",
    "sort_within_batch=True , device = device)"
   ]
  },
  {
   "cell_type": "code",
   "execution_count": 86,
   "id": "312a14d1",
   "metadata": {},
   "outputs": [
    {
     "name": "stdout",
     "output_type": "stream",
     "text": [
      "Device: cpu\n"
     ]
    }
   ],
   "source": [
    "device = torch.device('cuda' if torch.cuda.is_available() else 'cpu') #Set device to GPU if cuda available, else CPU\n",
    "print(\"Device:\",device)\n",
    "torch.manual_seed(RANDOM_SEED)\n",
    "BATCH_SIZE = 32 #Set batch size for training\n",
    "# Create data iterator for training and test sets\n",
    "training_iterator_senti, test_iterator_senti = BucketIterator.splits(\n",
    "    (dataset,dataset_senti_test),\n",
    "    batch_size = BATCH_SIZE,\n",
    "    sort_key = lambda x: len(x.text),\n",
    "    sort_within_batch=True , device = device)"
   ]
  },
  {
   "cell_type": "code",
   "execution_count": 87,
   "id": "0bb6e716",
   "metadata": {},
   "outputs": [],
   "source": [
    "class RTMR(nn.Module):\n",
    "    def __init__(self, vocab_size, embedding_dim, hidden_dim, output_dim, n_layers,\n",
    "        bidirectional, dropout):\n",
    "        super().__init__()\n",
    "        self.embedding = nn.Embedding(vocab_size, embedding_dim) # Word embedding layer\n",
    "        self.lstm = nn.LSTM(embedding_dim,\n",
    "                            hidden_dim,\n",
    "                            num_layers=n_layers,\n",
    "                            bidirectional=bidirectional,\n",
    "                            dropout=dropout,\n",
    "                            batch_first=True) # LSTM layer\n",
    "        self.fc1 = nn.Linear(hidden_dim * 2, output_dim) # Dense layer\n",
    "        self.act = nn.Softmax()\n",
    "\n",
    "    def forward(self, text, text_lengths):\n",
    "        embedded = self.embedding(text) # Create embedding of the input text\n",
    "        # Handle padding to ignore padding during training of the RNN\n",
    "        text_lengths_list = text_lengths.tolist()\n",
    "        packed_embedded = nn.utils.rnn.pack_padded_sequence(embedded, text_lengths_list,batch_first=True)\n",
    "        packed_output, (hidden, cell) = self.lstm(packed_embedded)\n",
    "        hidden = torch.cat((hidden[-2,:,:], hidden[-1,:,:]), dim = 1) # Concatenate the final forward and backward hidden state\n",
    "        dense_outputs=self.fc1(hidden)\n",
    "        outputs=self.act(dense_outputs) # Apply sigmoid activation function to output\n",
    "        return outputs"
   ]
  },
  {
   "cell_type": "code",
   "execution_count": 88,
   "id": "f671e358",
   "metadata": {},
   "outputs": [
    {
     "name": "stdout",
     "output_type": "stream",
     "text": [
      "Model architecture:\n",
      " RTMR(\n",
      "  (embedding): Embedding(17587, 10)\n",
      "  (lstm): LSTM(10, 16, num_layers=2, batch_first=True, dropout=0.2, bidirectional=True)\n",
      "  (fc1): Linear(in_features=32, out_features=1, bias=True)\n",
      "  (act): Softmax(dim=None)\n",
      ")\n",
      "\n",
      "The model has 185887 trainable parameters\n"
     ]
    }
   ],
   "source": [
    "# Set hyperparameters for network architecture and training\n",
    "vocabulary_size = len(TEXT.vocab)\n",
    "embedding_dimensions = 10 # Set to 10 for faster computations. Larger numbers typically required\n",
    "LSTM_no_of_hidden_nodes = 16 # The number of features in the hidden state h of the LSTM\n",
    "LSTM_no_of_recurrent_layers = 2 # Number of recurrent layers for RNN (to be stacked)\n",
    "LSTM_bidirection = True # Set to True for bidirectional LSTM (BiLSTM)\n",
    "LSTM_dropout = 0.2 # If not 0, introduces a dropout layer in the output of the LSTM\n",
    "output_size = 1 # Size of output layer\n",
    "\n",
    "# Initialise the model\n",
    "model_lstm = RTMR(vocabulary_size, embedding_dimensions, LSTM_no_of_hidden_nodes,\n",
    "                    output_size, LSTM_no_of_recurrent_layers,\n",
    "                    bidirectional = LSTM_bidirection,dropout = LSTM_dropout)\n",
    "print(\"Model architecture:\\n\",model_lstm) # Print model's architecture\n",
    "\n",
    "def count_parameters(model): # Computes the number of trainable parameters in the model\n",
    "    return sum(p.numel() for p in model_lstm.parameters() if p.requires_grad)\n",
    "\n",
    "print(\"\\nThe model has\",count_parameters(model_lstm),\"trainable parameters\")"
   ]
  },
  {
   "cell_type": "code",
   "execution_count": 89,
   "id": "bfc5ad96",
   "metadata": {},
   "outputs": [],
   "source": [
    "import torch.optim as optim\n",
    "\n",
    "optimizer = optim.Adam(model_lstm.parameters()) # Use the Adam optimiser\n",
    "criterion = nn.BCELoss() # Use Binary Cross Entropy between the target and the output as the loss function\n",
    "\n",
    "# Define binary accuracy metric\n",
    "def binary_accuracy(preds, y):\n",
    "    rounded_preds = torch.round(preds) # Round predictions to the closest integer\n",
    "    correct = (rounded_preds == y).float()\n",
    "    acc = correct.sum() / len(correct)\n",
    "#     accuracy = (torch.softmax(preds, dim=1).argmax(dim=1) == y).sum().float() / float( y.size(0) )\n",
    "    return acc\n",
    "\n",
    "# Sent model to device\n",
    "model = model_lstm.to(device)\n",
    "criterion = criterion.to(device)"
   ]
  },
  {
   "cell_type": "code",
   "execution_count": 90,
   "id": "145968e6",
   "metadata": {},
   "outputs": [],
   "source": [
    "def train(model, iterator, optimizer, criterion):\n",
    "    epoch_loss = 0\n",
    "    epoch_acc = 0\n",
    "    model.train() # Set the model in training phase\n",
    "    for batch in iterator:\n",
    "        optimizer.zero_grad() # Reset the gradients after every batch\n",
    "        text, text_lengths = batch.text # Retrieve text and number of words\n",
    "        predictions = model(text, text_lengths).squeeze() # Convert to 1D tensor\n",
    "        loss = criterion(predictions, batch.label) # Compute the loss\n",
    "        acc = binary_accuracy(predictions, batch.label) # Compute the binary accuracy\n",
    "        loss.backward() # Backpropagation\n",
    "        optimizer.step() # Update the weights\n",
    "        # Update epoch's loss and accuracy\n",
    "        epoch_loss += loss.item()\n",
    "        epoch_acc += acc.item()\n",
    "    return epoch_loss / len(iterator), epoch_acc / len(iterator)"
   ]
  },
  {
   "cell_type": "code",
   "execution_count": 91,
   "id": "182c8217",
   "metadata": {},
   "outputs": [],
   "source": [
    "def evaluate(model, iterator, criterion):\n",
    "    epoch_loss = 0\n",
    "    epoch_acc = 0\n",
    "    model.eval() # Set the model in evaluation phase\n",
    "    with torch.no_grad(): #Deactivates autograd\n",
    "        for batch in iterator:\n",
    "            text, text_lengths = batch.text # Retrieve text and number of words\n",
    "            predictions = model(text, text_lengths).squeeze() # Convert to 1d tensor\n",
    "            loss = criterion(predictions, batch.label) # Compute loss and accuracy\n",
    "            acc = binary_accuracy(predictions, batch.label)\n",
    "            # Update epoch's loss and accuracy\n",
    "            epoch_loss += loss.item()\n",
    "            epoch_acc += acc.item()\n",
    "    return epoch_loss / len(iterator), epoch_acc / len(iterator)"
   ]
  },
  {
   "cell_type": "code",
   "execution_count": 95,
   "id": "cbcac766",
   "metadata": {},
   "outputs": [
    {
     "name": "stdout",
     "output_type": "stream",
     "text": [
      "Model architecture:\n",
      " RTMR(\n",
      "  (embedding): Embedding(17587, 10)\n",
      "  (lstm): LSTM(10, 16, num_layers=2, batch_first=True, dropout=0.2, bidirectional=True)\n",
      "  (fc1): Linear(in_features=32, out_features=1, bias=True)\n",
      "  (act): Softmax(dim=None)\n",
      ")\n"
     ]
    }
   ],
   "source": [
    "import copy\n",
    "model_lstm_senti = copy.deepcopy(model_lstm)\n",
    "print(\"Model architecture:\\n\",model_lstm_senti) # Print model's architecture"
   ]
  },
  {
   "cell_type": "code",
   "execution_count": 96,
   "id": "059f2a35",
   "metadata": {},
   "outputs": [
    {
     "name": "stdout",
     "output_type": "stream",
     "text": [
      "Epoch   0: Train loss: 55.100 | Train acuracy: 0.4490 | Validation loss: 54.819 | Validation acuracy: 0.4518 - 20.47 s\n",
      "Epoch   1: Train loss: 55.100 | Train acuracy: 0.4490 | Validation loss: 54.819 | Validation acuracy: 0.4518 - 20.29 s\n",
      "Epoch   2: Train loss: 55.100 | Train acuracy: 0.4490 | Validation loss: 54.819 | Validation acuracy: 0.4518 - 20.04 s\n",
      "Epoch   3: Train loss: 55.098 | Train acuracy: 0.4490 | Validation loss: 54.819 | Validation acuracy: 0.4518 - 20.59 s\n",
      "Epoch   4: Train loss: 55.091 | Train acuracy: 0.4491 | Validation loss: 54.819 | Validation acuracy: 0.4518 - 21.12 s\n",
      "\n",
      "Best performance at epoch 0 | Loss: 54.819 | Accuracy: 0.4518\n"
     ]
    }
   ],
   "source": [
    "import time\n",
    "\n",
    "N_EPOCHS = 5\n",
    "best_valid_loss = float('inf')\n",
    "best_valid_acc = float('inf')\n",
    "best_epoch = 0\n",
    "\n",
    "for epoch in range(N_EPOCHS):\n",
    "    print(\"Epoch %3d:\" % epoch,end='')\n",
    "    start = time.time()\n",
    "    #train the model\n",
    "    train_loss, train_acc = train(model_lstm, training_iterator_rtmr, optimizer, criterion)\n",
    "    #evaluate the model\n",
    "    valid_loss, valid_acc = evaluate(model_lstm, test_iterator_rtmr, criterion)\n",
    "    #save the best model\n",
    "    if valid_loss < best_valid_loss:\n",
    "        best_valid_loss = valid_loss\n",
    "        best_valid_acc = valid_acc\n",
    "        best_epoch = epoch\n",
    "        torch.save(model_lstm.state_dict(), 'saved_weights.pt') # Save weights\n",
    "    print(\" Train loss: %.3f | Train acuracy: %3.4f \" % (train_loss,train_acc),end='')\n",
    "    print(\"| Validation loss: %.3f | Validation acuracy: %3.4f\" % (valid_loss,valid_acc),end='')\n",
    "    print(\" - %3.2f s\" % (time.time()-start))\n",
    "\n",
    "print(\"\\nBest performance at epoch %d | Loss: %.3f | Accuracy: %3.4f\" %\n",
    "(best_epoch,best_valid_loss,best_valid_acc))\n"
   ]
  },
  {
   "cell_type": "code",
   "execution_count": 98,
   "id": "f6590f31",
   "metadata": {},
   "outputs": [],
   "source": [
    "def predict(model, sentence):\n",
    "    tokenised = [token for token in word_tokenize(sentence)] # Tokenise text\n",
    "    indexed = [TEXT.vocab.stoi[token] for token in tokenised] # Convert tokens to integers\n",
    "    length = [len(indexed)] # Compute number of words\n",
    "    tensor = torch.LongTensor(indexed).to(device) # Convert to PyTorch tensor\n",
    "    tensor = tensor.unsqueeze(1).T # Reshape in form of batch,number of words\n",
    "    length_tensor = torch.LongTensor(length) # Convert to PyTorch tensor\n",
    "    prediction = model(tensor, length_tensor) # Predict text\n",
    "    return int(round(prediction.item()))"
   ]
  },
  {
   "cell_type": "code",
   "execution_count": 99,
   "id": "1ae4f1c3",
   "metadata": {},
   "outputs": [
    {
     "name": "stdout",
     "output_type": "stream",
     "text": [
      "1\n"
     ]
    }
   ],
   "source": [
    "print(predict(model_lstm,rtmr_test_new_lstm[\"Text\"][120:121].to_string()))"
   ]
  },
  {
   "cell_type": "markdown",
   "id": "ddb3e33c",
   "metadata": {},
   "source": [
    "## Saving the created models"
   ]
  },
  {
   "cell_type": "code",
   "execution_count": 100,
   "id": "cd8543bf",
   "metadata": {},
   "outputs": [
    {
     "name": "stdout",
     "output_type": "stream",
     "text": [
      "Saved CNN model to disk\n",
      "Saved LSTM RTMT model\n"
     ]
    }
   ],
   "source": [
    "import pickle\n",
    "# Model for s140 Naive Bayes\n",
    "filename = 'Senti_NB.sav'\n",
    "pickle.dump(model_senti_NB, open(filename, 'wb'))\n",
    "\n",
    "# Model for RTMR Naive Bayes\n",
    "filename = 'RTMR_NB.sav'\n",
    "pickle.dump(model_rtmr_NB, open(filename, 'wb'))\n",
    "\n",
    "# Model for s140 and RTMR combined Naive Bayes\n",
    "filename = 'Combined_NB.sav'\n",
    "pickle.dump(model_combined_NB, open(filename, 'wb'))\n",
    "\n",
    "# Model for RTMR CNN\n",
    "model_cnn.save(\"CNN.h5\")\n",
    "print(\"Saved CNN model to disk\")\n",
    "\n",
    "# Model for RTMR LSTM\n",
    "torch.save(model_lstm, \"LSTM.pt\")\n",
    "print(\"Saved LSTM RTMT model\")"
   ]
  },
  {
   "cell_type": "code",
   "execution_count": 101,
   "id": "07c88de6",
   "metadata": {},
   "outputs": [],
   "source": [
    "from keras.models import load_model\n",
    "def predict_post(text, model):\n",
    "    if model == 'CNN.h5':\n",
    "        loaded_model = load_model(model)\n",
    "        #Tokenizing the input\n",
    "        text_vec = tokenizer.texts_to_sequences(text)\n",
    "        text_vec = pad_sequences(text_vec, padding='post', maxlen=maxlen)\n",
    "        return np.argmax(loaded_model.predict(text_vec), axis=1)\n",
    "    elif model == 'LSTM.pt':\n",
    "        loaded_model = torch.load('LSTM.pt')\n",
    "        return predict(loaded_model, text.to_string())\n",
    "    else:\n",
    "        loaded_model = pickle.load(open(model, 'rb'))\n",
    "        return loaded_model.predict(text)"
   ]
  },
  {
   "cell_type": "code",
   "execution_count": 102,
   "id": "3e235a4c",
   "metadata": {},
   "outputs": [
    {
     "name": "stdout",
     "output_type": "stream",
     "text": [
      "Prediction for s140 trained Naive Bayes model\n",
      "[4]\n",
      "Prediction for RTMR trained Naive Bayes model\n",
      "[2]\n",
      "Prediction for Combined (s140 & RTMR) trained Naive Bayes model\n",
      "[4]\n",
      "Prediction for RTMR trained CNN model\n",
      "[2]\n",
      "Prediction for RTMR trained LSTM model\n",
      "1\n"
     ]
    }
   ],
   "source": [
    "print(\"Prediction for s140 trained Naive Bayes model\")\n",
    "print(predict_post(senti_test_modd[\"Text\"][120:121], 'Senti_NB.sav'))\n",
    "\n",
    "print(\"Prediction for RTMR trained Naive Bayes model\")\n",
    "print(predict_post(senti_test_modd[\"Text\"][120:121], 'RTMR_NB.sav'))\n",
    "\n",
    "print(\"Prediction for Combined (s140 & RTMR) trained Naive Bayes model\")\n",
    "print(predict_post(senti_test_modd[\"Text\"][120:121], 'Combined_NB.sav'))\n",
    "\n",
    "print(\"Prediction for RTMR trained CNN model\")\n",
    "print(predict_post(senti_test_modd[\"Text\"][120:121], 'CNN.h5'))\n",
    "\n",
    "print(\"Prediction for RTMR trained LSTM model\")\n",
    "print(predict_post(senti_test_modd[\"Text\"][120:121], 'LSTM.pt'))"
   ]
  }
 ],
 "metadata": {
  "kernelspec": {
   "display_name": "Python 3 (ipykernel)",
   "language": "python",
   "name": "python3"
  },
  "language_info": {
   "codemirror_mode": {
    "name": "ipython",
    "version": 3
   },
   "file_extension": ".py",
   "mimetype": "text/x-python",
   "name": "python",
   "nbconvert_exporter": "python",
   "pygments_lexer": "ipython3",
   "version": "3.9.7"
  }
 },
 "nbformat": 4,
 "nbformat_minor": 5
}
